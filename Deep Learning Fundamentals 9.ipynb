{
 "cells": [
  {
   "cell_type": "markdown",
   "id": "bee0778f",
   "metadata": {},
   "source": [
    "# Deep Learning Fundamentals 9: Into the World of Tensorflow/Keras 3"
   ]
  },
  {
   "cell_type": "code",
   "execution_count": 1,
   "id": "076c4bf5",
   "metadata": {},
   "outputs": [],
   "source": [
    "import sys\n",
    "import sklearn\n",
    "import tensorflow as tf\n",
    "from tensorflow import keras\n",
    "import numpy as np\n",
    "import pandas as pd\n",
    "import matplotlib as mpl\n",
    "import matplotlib.pyplot as plt\n",
    "import seaborn as sns\n",
    "\n",
    "sns.set_theme()"
   ]
  },
  {
   "cell_type": "markdown",
   "id": "38137bb8",
   "metadata": {},
   "source": [
    "## Gradient Clipping"
   ]
  },
  {
   "cell_type": "markdown",
   "id": "e89ff34d",
   "metadata": {},
   "source": [
    "Another approach that we can use for dealing with Exploiding/Vanishing gradient problem is gradient clipping. I previously used this technique in one of my notebooks I guess, but this time I would like to also explain this topic. In this technique, we are basically clipping gradients during backpropagation and controlling that gradients do not exceed a threshold that we set. This technique can be preferable to use with RNNs since back normalization is likely to cause some problems."
   ]
  },
  {
   "cell_type": "code",
   "execution_count": 2,
   "id": "fd1c6bb5",
   "metadata": {},
   "outputs": [],
   "source": [
    "optimizer = keras.optimizers.SGD(clipvalue=1.0)"
   ]
  },
  {
   "cell_type": "markdown",
   "id": "747383a7",
   "metadata": {},
   "source": [
    "The code above clips partial derivatives of the loss function (with respect to each trainable parameter) between -1 and 1. We can also tune this norm with hyperparameter tuning"
   ]
  },
  {
   "cell_type": "markdown",
   "id": "b1ef2667",
   "metadata": {},
   "source": [
    "Note that gradient clipping may cause the orientation of the gradient vector to change. To avoid this, one can use the clipnorm argument instead of the clipvalue argument."
   ]
  },
  {
   "cell_type": "code",
   "execution_count": 3,
   "id": "c588ee12",
   "metadata": {},
   "outputs": [],
   "source": [
    "optimizer = keras.optimizers.SGD(clipnorm=1.0)"
   ]
  },
  {
   "cell_type": "markdown",
   "id": "5af02c58",
   "metadata": {},
   "source": [
    "Let's load Fashion MNIST to try out gradient clipping."
   ]
  },
  {
   "cell_type": "code",
   "execution_count": 4,
   "id": "f08b715b",
   "metadata": {},
   "outputs": [],
   "source": [
    "(X_train_full, y_train_full), (X_test, y_test) = keras.datasets.fashion_mnist.load_data()\n",
    "X_train_full = X_train_full / 255.0\n",
    "X_test = X_test / 255.0\n",
    "X_valid, X_train = X_train_full[:5000], X_train_full[5000:]\n",
    "y_valid, y_train = y_train_full[:5000], y_train_full[5000:]"
   ]
  },
  {
   "cell_type": "code",
   "execution_count": 5,
   "id": "ae327539",
   "metadata": {},
   "outputs": [
    {
     "name": "stdout",
     "output_type": "stream",
     "text": [
      "Epoch 1/10\n",
      "1719/1719 [==============================] - 16s 10ms/step - loss: 2.3027 - accuracy: 0.0979 - val_loss: 2.3027 - val_accuracy: 0.0914\n",
      "Epoch 2/10\n",
      "1719/1719 [==============================] - 16s 9ms/step - loss: 2.3027 - accuracy: 0.0980 - val_loss: 2.3028 - val_accuracy: 0.0976\n",
      "Epoch 3/10\n",
      "1719/1719 [==============================] - 13s 8ms/step - loss: 2.3027 - accuracy: 0.0993 - val_loss: 2.3027 - val_accuracy: 0.0986\n",
      "Epoch 4/10\n",
      "1719/1719 [==============================] - 13s 8ms/step - loss: 2.3027 - accuracy: 0.0975 - val_loss: 2.3028 - val_accuracy: 0.0976\n",
      "Epoch 5/10\n",
      "1719/1719 [==============================] - 13s 8ms/step - loss: 2.3027 - accuracy: 0.1004 - val_loss: 2.3028 - val_accuracy: 0.0986\n",
      "Epoch 6/10\n",
      "1719/1719 [==============================] - 16s 9ms/step - loss: 2.3027 - accuracy: 0.0995 - val_loss: 2.3028 - val_accuracy: 0.1002\n",
      "Epoch 7/10\n",
      "1719/1719 [==============================] - 14s 8ms/step - loss: 2.3027 - accuracy: 0.0980 - val_loss: 2.3026 - val_accuracy: 0.0986\n",
      "Epoch 8/10\n",
      "1719/1719 [==============================] - 11s 7ms/step - loss: 2.3027 - accuracy: 0.0976 - val_loss: 2.3028 - val_accuracy: 0.0976\n",
      "Epoch 9/10\n",
      "1719/1719 [==============================] - 12s 7ms/step - loss: 2.3027 - accuracy: 0.0997 - val_loss: 2.3027 - val_accuracy: 0.0976\n",
      "Epoch 10/10\n",
      "1719/1719 [==============================] - 12s 7ms/step - loss: 2.3027 - accuracy: 0.1009 - val_loss: 2.3026 - val_accuracy: 0.1002\n"
     ]
    }
   ],
   "source": [
    "model = keras.models.Sequential()\n",
    "model.add(keras.layers.Flatten(input_shape=[28, 28]))\n",
    "model.add(keras.layers.Dense(300, kernel_initializer='lecun_normal',activation='relu'))\n",
    "for layer in range(50):\n",
    "    model.add(keras.layers.Dense(100, kernel_initializer='lecun_normal',activation='relu')) # adding 50 hidden layers.\n",
    "model.add(keras.layers.Dense(10, activation=\"softmax\"))\n",
    "\n",
    "model.compile(loss=\"sparse_categorical_crossentropy\",\n",
    "              optimizer=keras.optimizers.SGD(lr=1e-2,clipnorm=1),\n",
    "              metrics=[\"accuracy\"])\n",
    "\n",
    "history = model.fit(X_train, y_train, epochs=10,\n",
    "                    validation_data=(X_valid, y_valid))"
   ]
  },
  {
   "cell_type": "markdown",
   "id": "212bed60",
   "metadata": {},
   "source": [
    "### Some Notes:\n",
    "\n",
    "1. A good article about Gradient Clipping: [link](https://towardsdatascience.com/what-is-gradient-clipping-b8e815cdfb48)\n",
    "\n",
    "2. This is a very good paper about the problems of RNN that we can solve (partially) using gradient clipping. [On the difficulty of training Recurrent Neural Networks](https://arxiv.org/pdf/1211.5063.pdf)"
   ]
  },
  {
   "cell_type": "markdown",
   "id": "e1ef26f0",
   "metadata": {},
   "source": [
    "# Learning Rate Scheduling\n",
    "\n",
    "Now it is time to move to another subject. Finding a good learning rate is very important and there is a technique that we can use to set the learning rate which generally works better than a classical constant learning rate. This technique is called learning rate scheduling. In learning rate scheduling, we start with a large learning rate and gradually reduce it during training.\n",
    "\n",
    "\n",
    "## 1. Power Scheduling\n",
    "\n",
    "In power scheduling, we set the learning rate according to the function below. We have three hyperparameters $\\eta_0$ is the initial learning rate, c (Keras assumes that c is equal to 1) is the power and s is steps. The rate will drop quickly in the first steps and then get slower and slower in later steps.\n",
    "\n",
    "$$\\eta \\left(t\\right)=\\:\\frac{\\eta _0}{\\left(1+\\frac{t}{s}\\right)^c}$$"
   ]
  },
  {
   "cell_type": "code",
   "execution_count": 6,
   "id": "594d1ae4",
   "metadata": {},
   "outputs": [],
   "source": [
    "optimizer = keras.optimizers.Adam(lr=0.01, decay=1e-4)# we can add power scheduling just by adding the **decay** parameter to optimizer"
   ]
  },
  {
   "cell_type": "code",
   "execution_count": 7,
   "id": "4e2890ec",
   "metadata": {},
   "outputs": [
    {
     "name": "stdout",
     "output_type": "stream",
     "text": [
      "Epoch 1/10\n",
      "1719/1719 [==============================] - 16s 9ms/step - loss: 2.3042 - accuracy: 0.0965 - val_loss: 2.3044 - val_accuracy: 0.0986\n",
      "Epoch 2/10\n",
      "1719/1719 [==============================] - 16s 9ms/step - loss: 2.3037 - accuracy: 0.0999 - val_loss: 2.3025 - val_accuracy: 0.1008\n",
      "Epoch 3/10\n",
      "1719/1719 [==============================] - 16s 9ms/step - loss: 2.3035 - accuracy: 0.1005 - val_loss: 2.3034 - val_accuracy: 0.0976\n",
      "Epoch 4/10\n",
      "1719/1719 [==============================] - 16s 9ms/step - loss: 2.3035 - accuracy: 0.1009 - val_loss: 2.3025 - val_accuracy: 0.0980\n",
      "Epoch 5/10\n",
      "1719/1719 [==============================] - 16s 9ms/step - loss: 2.3032 - accuracy: 0.1022 - val_loss: 2.3029 - val_accuracy: 0.0976\n",
      "Epoch 6/10\n",
      "1719/1719 [==============================] - 16s 9ms/step - loss: 2.3033 - accuracy: 0.0996 - val_loss: 2.3036 - val_accuracy: 0.1002\n",
      "Epoch 7/10\n",
      "1719/1719 [==============================] - 16s 9ms/step - loss: 2.3034 - accuracy: 0.0988 - val_loss: 2.3038 - val_accuracy: 0.0914\n",
      "Epoch 8/10\n",
      "1719/1719 [==============================] - 16s 9ms/step - loss: 2.3033 - accuracy: 0.0989 - val_loss: 2.3028 - val_accuracy: 0.0986\n",
      "Epoch 9/10\n",
      "1719/1719 [==============================] - 16s 9ms/step - loss: 2.3032 - accuracy: 0.0996 - val_loss: 2.3034 - val_accuracy: 0.1024\n",
      "Epoch 10/10\n",
      "1719/1719 [==============================] - 16s 9ms/step - loss: 2.3032 - accuracy: 0.0993 - val_loss: 2.3032 - val_accuracy: 0.1002\n"
     ]
    }
   ],
   "source": [
    "model = keras.models.Sequential()\n",
    "model.add(keras.layers.Flatten(input_shape=[28, 28]))\n",
    "model.add(keras.layers.Dense(300, kernel_initializer='lecun_normal',activation='relu'))\n",
    "for layer in range(50):\n",
    "    model.add(keras.layers.Dense(100, kernel_initializer='lecun_normal',activation='relu')) # adding 50 hidden layers.\n",
    "model.add(keras.layers.Dense(10, activation=\"softmax\"))\n",
    "\n",
    "model.compile(loss=\"sparse_categorical_crossentropy\",\n",
    "              optimizer=optimizer,\n",
    "              metrics=[\"accuracy\"])\n",
    "\n",
    "history = model.fit(X_train, y_train, epochs=10,\n",
    "                    validation_data=(X_valid, y_valid))"
   ]
  },
  {
   "cell_type": "code",
   "execution_count": 8,
   "id": "89c7b3d3",
   "metadata": {},
   "outputs": [
    {
     "data": {
      "image/png": "[encoded data removed]",
      "text/plain": [
       "<Figure size 432x288 with 1 Axes>"
      ]
     },
     "metadata": {},
     "output_type": "display_data"
    }
   ],
   "source": [
    "import math\n",
    "import matplotlib.pyplot as plt\n",
    "learning_rate = 0.01\n",
    "decay = 1e-4\n",
    "batch_size = 32\n",
    "n_steps_per_epoch = math.ceil(len(X_train) / batch_size)\n",
    "epochs = np.arange(10)\n",
    "lrs = learning_rate / (1 + decay * epochs * n_steps_per_epoch)\n",
    "\n",
    "plt.plot(epochs, lrs,  \"o-\")\n",
    "plt.axis([0, 10 - 1, 0, 0.01])\n",
    "plt.xlabel(\"Epoch\")\n",
    "plt.ylabel(\"Learning Rate\")\n",
    "plt.title(\"Power Scheduling\", fontsize=14)\n",
    "plt.grid(True)\n",
    "plt.show()"
   ]
  },
  {
   "cell_type": "markdown",
   "id": "ef151c84",
   "metadata": {},
   "source": [
    "## 2. Exponential Scheduling\n",
    "\n",
    "The exponential will drop by a factor of 10 in s steps. Compared to power scheduling, it reduces to learning rate more sharply. \n",
    "\n",
    "$$\\eta \\left(t\\right)=\\:\\eta _0\\cdot 0.1^{\\frac{t}{s}}$$"
   ]
  },
  {
   "cell_type": "code",
   "execution_count": 9,
   "id": "92a23a87",
   "metadata": {},
   "outputs": [],
   "source": [
    "def exp_sch_callback(epoch):\n",
    "    return 0.01 * 0.1**(epoch / 20)"
   ]
  },
  {
   "cell_type": "code",
   "execution_count": 10,
   "id": "f2ebed58",
   "metadata": {},
   "outputs": [],
   "source": [
    "model = keras.models.Sequential()\n",
    "model.add(keras.layers.Flatten(input_shape=[28, 28]))\n",
    "model.add(keras.layers.Dense(300, kernel_initializer='lecun_normal',activation='relu'))\n",
    "for layer in range(50):\n",
    "    model.add(keras.layers.Dense(100, kernel_initializer='lecun_normal',activation='relu')) # adding 50 hidden layers.\n",
    "model.add(keras.layers.Dense(10, activation=\"softmax\"))\n",
    "\n",
    "model.compile(loss=\"sparse_categorical_crossentropy\",\n",
    "              optimizer=keras.optimizers.SGD(lr=1e-2),\n",
    "              metrics=[\"accuracy\"])"
   ]
  },
  {
   "cell_type": "markdown",
   "id": "acebe49c",
   "metadata": {},
   "source": [
    "Unlike power scheduling, we need to write down our own function and pass it to a callback to use Exponential Scheduling.   `LearningRateScheduler` will update the learning rate at the beginning of each epoch."
   ]
  },
  {
   "cell_type": "code",
   "execution_count": 11,
   "id": "f64d7473",
   "metadata": {},
   "outputs": [
    {
     "name": "stdout",
     "output_type": "stream",
     "text": [
      "Epoch 1/10\n",
      "1719/1719 [==============================] - 11s 7ms/step - loss: 2.3027 - accuracy: 0.0978 - val_loss: 2.3028 - val_accuracy: 0.0976\n",
      "Epoch 2/10\n",
      "1719/1719 [==============================] - 11s 6ms/step - loss: 2.3027 - accuracy: 0.0998 - val_loss: 2.3030 - val_accuracy: 0.0914\n",
      "Epoch 3/10\n",
      "1719/1719 [==============================] - 12s 7ms/step - loss: 2.3027 - accuracy: 0.0984 - val_loss: 2.3028 - val_accuracy: 0.0914\n",
      "Epoch 4/10\n",
      "1719/1719 [==============================] - 12s 7ms/step - loss: 2.3027 - accuracy: 0.0996 - val_loss: 2.3028 - val_accuracy: 0.1002\n",
      "Epoch 5/10\n",
      "1719/1719 [==============================] - 11s 6ms/step - loss: 2.3027 - accuracy: 0.0985 - val_loss: 2.3028 - val_accuracy: 0.0914\n",
      "Epoch 6/10\n",
      "1719/1719 [==============================] - 11s 7ms/step - loss: 2.3026 - accuracy: 0.0999 - val_loss: 2.3028 - val_accuracy: 0.0986\n",
      "Epoch 7/10\n",
      "1719/1719 [==============================] - 11s 7ms/step - loss: 2.3026 - accuracy: 0.0979 - val_loss: 2.3028 - val_accuracy: 0.0914\n",
      "Epoch 8/10\n",
      "1719/1719 [==============================] - 11s 7ms/step - loss: 2.3026 - accuracy: 0.0997 - val_loss: 2.3028 - val_accuracy: 0.0976\n",
      "Epoch 9/10\n",
      "1719/1719 [==============================] - 11s 7ms/step - loss: 2.3026 - accuracy: 0.0990 - val_loss: 2.3028 - val_accuracy: 0.0914\n",
      "Epoch 10/10\n",
      "1719/1719 [==============================] - 12s 7ms/step - loss: 2.3026 - accuracy: 0.0990 - val_loss: 2.3028 - val_accuracy: 0.0914\n"
     ]
    }
   ],
   "source": [
    "lr_scheduler = keras.callbacks.LearningRateScheduler(exp_sch_callback)\n",
    "history = model.fit(X_train, y_train, epochs=10,\n",
    "                    validation_data=(X_valid, y_valid),\n",
    "                    callbacks=[lr_scheduler])"
   ]
  },
  {
   "cell_type": "code",
   "execution_count": 12,
   "id": "d7ef0359",
   "metadata": {},
   "outputs": [
    {
     "data": {
      "image/png": "[encoded data removed]",
      "text/plain": [
       "<Figure size 432x288 with 1 Axes>"
      ]
     },
     "metadata": {},
     "output_type": "display_data"
    }
   ],
   "source": [
    "plt.plot(history.epoch, history.history[\"lr\"], \"o-\")\n",
    "plt.axis([0, 10 - 1, 0, 0.011])\n",
    "plt.xlabel(\"Epoch\")\n",
    "plt.ylabel(\"Learning Rate\")\n",
    "plt.title(\"Exponential Scheduling\", fontsize=14)\n",
    "plt.grid(True)\n",
    "plt.show()"
   ]
  },
  {
   "cell_type": "markdown",
   "id": "0f50020b",
   "metadata": {},
   "source": [
    "## 3. Piecewise constant scheduling\n",
    "\n",
    "In this approach, we use a constant learning rate for some number of epochs (0.1 for 5 epochs, 0.001 for another 10 etc..)"
   ]
  },
  {
   "cell_type": "code",
   "execution_count": 13,
   "id": "c817854b",
   "metadata": {},
   "outputs": [],
   "source": [
    "def piecewise_constant_sch(epoch):\n",
    "    if epoch < 5:\n",
    "        return 0.01\n",
    "    elif epoch < 15:\n",
    "        return 0.005\n",
    "    else:\n",
    "        return 0.001"
   ]
  },
  {
   "cell_type": "code",
   "execution_count": 14,
   "id": "32dbd1f6",
   "metadata": {},
   "outputs": [],
   "source": [
    "model = keras.models.Sequential()\n",
    "model.add(keras.layers.Flatten(input_shape=[28, 28]))\n",
    "model.add(keras.layers.Dense(300, kernel_initializer='lecun_normal',activation='relu'))\n",
    "for layer in range(50):\n",
    "    model.add(keras.layers.Dense(100, kernel_initializer='lecun_normal',activation='relu')) # adding 50 hidden layers.\n",
    "model.add(keras.layers.Dense(10, activation=\"softmax\"))\n",
    "\n",
    "model.compile(loss=\"sparse_categorical_crossentropy\",\n",
    "              optimizer=keras.optimizers.SGD(lr=1e-2),\n",
    "              metrics=[\"accuracy\"])"
   ]
  },
  {
   "cell_type": "code",
   "execution_count": 15,
   "id": "e29692b0",
   "metadata": {},
   "outputs": [
    {
     "name": "stdout",
     "output_type": "stream",
     "text": [
      "Epoch 1/10\n",
      "1719/1719 [==============================] - 13s 8ms/step - loss: 2.3027 - accuracy: 0.0994 - val_loss: 2.3028 - val_accuracy: 0.0976\n",
      "Epoch 2/10\n",
      "1719/1719 [==============================] - 12s 7ms/step - loss: 2.3027 - accuracy: 0.0971 - val_loss: 2.3028 - val_accuracy: 0.0986\n",
      "Epoch 3/10\n",
      "1719/1719 [==============================] - 13s 7ms/step - loss: 2.3027 - accuracy: 0.0989 - val_loss: 2.3027 - val_accuracy: 0.0914\n",
      "Epoch 4/10\n",
      "1719/1719 [==============================] - 12s 7ms/step - loss: 2.3027 - accuracy: 0.0985 - val_loss: 2.3028 - val_accuracy: 0.0914\n",
      "Epoch 5/10\n",
      "1719/1719 [==============================] - 14s 8ms/step - loss: 2.3027 - accuracy: 0.0974 - val_loss: 2.3028 - val_accuracy: 0.0914\n",
      "Epoch 6/10\n",
      "1719/1719 [==============================] - 13s 8ms/step - loss: 2.3026 - accuracy: 0.0987 - val_loss: 2.3029 - val_accuracy: 0.0914\n",
      "Epoch 7/10\n",
      "1719/1719 [==============================] - 12s 7ms/step - loss: 2.3026 - accuracy: 0.0987 - val_loss: 2.3029 - val_accuracy: 0.0914\n",
      "Epoch 8/10\n",
      "1719/1719 [==============================] - 11s 7ms/step - loss: 2.3026 - accuracy: 0.1005 - val_loss: 2.3028 - val_accuracy: 0.0914\n",
      "Epoch 9/10\n",
      "1719/1719 [==============================] - 12s 7ms/step - loss: 2.3026 - accuracy: 0.0998 - val_loss: 2.3028 - val_accuracy: 0.0914\n",
      "Epoch 10/10\n",
      "1719/1719 [==============================] - 13s 7ms/step - loss: 2.3026 - accuracy: 0.0982 - val_loss: 2.3028 - val_accuracy: 0.0914\n"
     ]
    }
   ],
   "source": [
    "lr_scheduler = keras.callbacks.LearningRateScheduler(piecewise_constant_sch)\n",
    "history = model.fit(X_train, y_train, epochs=10,\n",
    "                    validation_data=(X_valid, y_valid),\n",
    "                    callbacks=[lr_scheduler])"
   ]
  },
  {
   "cell_type": "code",
   "execution_count": 16,
   "id": "037eb093",
   "metadata": {},
   "outputs": [
    {
     "data": {
      "image/png": "[encoded data removed]",
      "text/plain": [
       "<Figure size 432x288 with 1 Axes>"
      ]
     },
     "metadata": {},
     "output_type": "display_data"
    }
   ],
   "source": [
    "plt.plot(history.epoch, [piecewise_constant_sch(epoch) for epoch in history.epoch], \"o-\")\n",
    "plt.axis([0, 10 - 1, 0, 0.011])\n",
    "plt.xlabel(\"Epoch\")\n",
    "plt.ylabel(\"Learning Rate\")\n",
    "plt.title(\"Piecewise Constant Scheduling\", fontsize=14)\n",
    "plt.grid(True)\n",
    "plt.show()"
   ]
  },
  {
   "cell_type": "markdown",
   "id": "f025e2ea",
   "metadata": {},
   "source": [
    "## 4. Performance scheduling\n",
    "\n",
    "In this approach, a validation error is measured every N steps and the learning rate is reduced by a factor of $\\lambda$ when the error stops dropping significantly.\n",
    "\n",
    "For performance scheduling, use the `ReduceLROnPlateau()` callback. For example, if you pass the following callback to the fit() method, it will multiply the learning rate by 0.5 whenever the best validation loss does not improve for five consecutive epochs (there are other options that we can use with this callback, check out the [documentation](https://keras.io/api/callbacks/reduce_lr_on_plateau/)):"
   ]
  },
  {
   "cell_type": "code",
   "execution_count": 17,
   "id": "d846ed3e",
   "metadata": {},
   "outputs": [
    {
     "name": "stdout",
     "output_type": "stream",
     "text": [
      "Epoch 1/10\n",
      "1719/1719 [==============================] - 14s 8ms/step - loss: 2.3039 - accuracy: 0.0989 - val_loss: 2.3068 - val_accuracy: 0.0914\n",
      "Epoch 2/10\n",
      "1719/1719 [==============================] - 14s 8ms/step - loss: 2.3042 - accuracy: 0.0991 - val_loss: 2.3036 - val_accuracy: 0.1024\n",
      "Epoch 3/10\n",
      "1719/1719 [==============================] - 19s 11ms/step - loss: 2.3042 - accuracy: 0.0989 - val_loss: 2.3028 - val_accuracy: 0.0986\n",
      "Epoch 4/10\n",
      "1719/1719 [==============================] - 19s 11ms/step - loss: 2.3041 - accuracy: 0.0999 - val_loss: 2.3038 - val_accuracy: 0.0986\n",
      "Epoch 5/10\n",
      "1719/1719 [==============================] - 12s 7ms/step - loss: 2.3039 - accuracy: 0.1003 - val_loss: 2.3050 - val_accuracy: 0.1012\n",
      "Epoch 6/10\n",
      "1719/1719 [==============================] - 12s 7ms/step - loss: 2.3042 - accuracy: 0.1003 - val_loss: 2.3040 - val_accuracy: 0.0976\n",
      "Epoch 7/10\n",
      "1719/1719 [==============================] - 13s 7ms/step - loss: 2.3040 - accuracy: 0.0992 - val_loss: 2.3033 - val_accuracy: 0.0986\n",
      "Epoch 8/10\n",
      "1719/1719 [==============================] - 12s 7ms/step - loss: 2.3041 - accuracy: 0.0995 - val_loss: 2.3039 - val_accuracy: 0.1012\n",
      "Epoch 9/10\n",
      "1719/1719 [==============================] - 16s 9ms/step - loss: 2.3034 - accuracy: 0.1003 - val_loss: 2.3038 - val_accuracy: 0.0976\n",
      "Epoch 10/10\n",
      "1719/1719 [==============================] - 13s 8ms/step - loss: 2.3032 - accuracy: 0.1020 - val_loss: 2.3029 - val_accuracy: 0.1012\n"
     ]
    }
   ],
   "source": [
    "lr_scheduler = keras.callbacks.ReduceLROnPlateau(factor=0.5, patience=5)\n",
    "\n",
    "model = keras.models.Sequential()\n",
    "model.add(keras.layers.Flatten(input_shape=[28, 28]))\n",
    "model.add(keras.layers.Dense(300, kernel_initializer='lecun_normal',activation='relu'))\n",
    "for layer in range(50):\n",
    "    model.add(keras.layers.Dense(100, kernel_initializer='lecun_normal',activation='relu')) # adding 50 hidden layers.\n",
    "model.add(keras.layers.Dense(10, activation=\"softmax\"))\n",
    "\n",
    "\n",
    "optimizer = keras.optimizers.SGD(lr=0.02, momentum=0.9)\n",
    "model.compile(loss=\"sparse_categorical_crossentropy\", optimizer=optimizer, metrics=[\"accuracy\"])\n",
    "\n",
    "\n",
    "history = model.fit(X_train, y_train, epochs=10,\n",
    "                    validation_data=(X_valid, y_valid),\n",
    "                    callbacks=[lr_scheduler])"
   ]
  },
  {
   "cell_type": "code",
   "execution_count": 18,
   "id": "2c776b6a",
   "metadata": {},
   "outputs": [
    {
     "data": {
      "image/png": "[encoded data removed]",
      "text/plain": [
       "<Figure size 432x288 with 2 Axes>"
      ]
     },
     "metadata": {},
     "output_type": "display_data"
    }
   ],
   "source": [
    "plt.plot(history.epoch, history.history[\"lr\"], \"bo-\")\n",
    "plt.xlabel(\"Epoch\")\n",
    "plt.ylabel(\"Learning Rate\", color='b')\n",
    "plt.tick_params('y', colors='b')\n",
    "plt.gca().set_xlim(0, 10 - 1)\n",
    "plt.grid(True)\n",
    "\n",
    "ax2 = plt.gca().twinx()\n",
    "ax2.plot(history.epoch, history.history[\"val_loss\"], \"r^-\")\n",
    "ax2.set_ylabel('Validation Loss', color='r')\n",
    "ax2.tick_params('y', colors='r')\n",
    "\n",
    "plt.title(\"Reduce LR on Plateau\", fontsize=14)\n",
    "plt.show()"
   ]
  },
  {
   "cell_type": "markdown",
   "id": "a6dd78c7",
   "metadata": {},
   "source": [
    "## 5. 1cycle scheduling:\n",
    "\n",
    "1cycle  starts by increasing $\\eta _0$, growing linear up to $\\eta _1$ halfway through training. Then in the second half, it decreases the learning rate linearly down to $\\eta_0$\n",
    "\n",
    "In practice power sceduling and exponential scheduling work well and the 1cycle approach seems to perform even better. \n",
    "\n",
    "I recommend reading this article about Learning Rate Scheduling: [AN EMPIRICAL STUDY OF LEARNING RATES IN DEEP NEURAL NETWORKS FOR\n",
    "SPEECH RECOGNITION](https://static.googleusercontent.com/media/research.google.com/tr//pubs/archive/40808.pdf)"
   ]
  },
  {
   "cell_type": "code",
   "execution_count": 19,
   "id": "e997aee3",
   "metadata": {},
   "outputs": [],
   "source": [
    "class OneCycleScheduler(keras.callbacks.Callback):\n",
    "    def __init__(self, iterations, max_rate, start_rate=None,\n",
    "                 last_iterations=None, last_rate=None):\n",
    "        self.iterations = iterations\n",
    "        self.max_rate = max_rate\n",
    "        self.start_rate = start_rate or max_rate / 10\n",
    "        self.last_iterations = last_iterations or iterations // 10 + 1\n",
    "        self.half_iteration = (iterations - self.last_iterations) // 2\n",
    "        self.last_rate = last_rate or self.start_rate / 1000\n",
    "        self.iteration = 0\n",
    "    def _interpolate(self, iter1, iter2, rate1, rate2):\n",
    "        return ((rate2 - rate1) * (self.iteration - iter1)\n",
    "                / (iter2 - iter1) + rate1)\n",
    "    def on_batch_begin(self, batch, logs):\n",
    "        if self.iteration < self.half_iteration:\n",
    "            rate = self._interpolate(0, self.half_iteration, self.start_rate, self.max_rate)\n",
    "        elif self.iteration < 2 * self.half_iteration:\n",
    "            rate = self._interpolate(self.half_iteration, 2 * self.half_iteration,\n",
    "                                     self.max_rate, self.start_rate)\n",
    "        else:\n",
    "            rate = self._interpolate(2 * self.half_iteration, self.iterations,\n",
    "                                     self.start_rate, self.last_rate)\n",
    "        self.iteration += 1\n",
    "        keras.backend.set_value(self.model.optimizer.lr, rate)"
   ]
  },
  {
   "cell_type": "code",
   "execution_count": 20,
   "id": "9a7db303",
   "metadata": {},
   "outputs": [
    {
     "name": "stdout",
     "output_type": "stream",
     "text": [
      "Epoch 1/10\n",
      "430/430 [==============================] - 6s 15ms/step - loss: 2.3027 - accuracy: 0.0983 - val_loss: 2.3026 - val_accuracy: 0.0976\n",
      "Epoch 2/10\n",
      "430/430 [==============================] - 6s 13ms/step - loss: 2.3028 - accuracy: 0.0970 - val_loss: 2.3033 - val_accuracy: 0.0914\n",
      "Epoch 3/10\n",
      "430/430 [==============================] - 6s 13ms/step - loss: 2.3029 - accuracy: 0.0963 - val_loss: 2.3033 - val_accuracy: 0.0914\n",
      "Epoch 4/10\n",
      "430/430 [==============================] - 6s 14ms/step - loss: 2.3029 - accuracy: 0.0975 - val_loss: 2.3033 - val_accuracy: 0.1024\n",
      "Epoch 5/10\n",
      "430/430 [==============================] - 6s 13ms/step - loss: 2.3029 - accuracy: 0.0988 - val_loss: 2.3025 - val_accuracy: 0.1012\n",
      "Epoch 6/10\n",
      "430/430 [==============================] - 6s 14ms/step - loss: 2.3030 - accuracy: 0.0980 - val_loss: 2.3028 - val_accuracy: 0.1024\n",
      "Epoch 7/10\n",
      "430/430 [==============================] - 9s 20ms/step - loss: 2.3029 - accuracy: 0.1007 - val_loss: 2.3039 - val_accuracy: 0.0986\n",
      "Epoch 8/10\n",
      "430/430 [==============================] - 10s 23ms/step - loss: 2.3031 - accuracy: 0.1003 - val_loss: 2.3035 - val_accuracy: 0.1002\n",
      "Epoch 9/10\n",
      "430/430 [==============================] - 7s 16ms/step - loss: 2.3031 - accuracy: 0.0975 - val_loss: 2.3034 - val_accuracy: 0.0986\n",
      "Epoch 10/10\n",
      "430/430 [==============================] - 6s 13ms/step - loss: 2.3032 - accuracy: 0.0996 - val_loss: 2.3026 - val_accuracy: 0.1002\n"
     ]
    }
   ],
   "source": [
    "onecycle = OneCycleScheduler(math.ceil(len(X_train) / batch_size) * 10, max_rate=0.05)\n",
    "\n",
    "model = keras.models.Sequential()\n",
    "model.add(keras.layers.Flatten(input_shape=[28, 28]))\n",
    "model.add(keras.layers.Dense(300, kernel_initializer='lecun_normal',activation='relu'))\n",
    "for layer in range(50):\n",
    "    model.add(keras.layers.Dense(100, kernel_initializer='lecun_normal',activation='relu')) # adding 50 hidden layers.\n",
    "model.add(keras.layers.Dense(10, activation=\"softmax\"))\n",
    "\n",
    "\n",
    "optimizer = keras.optimizers.SGD(lr=0.02, momentum=0.9)\n",
    "model.compile(loss=\"sparse_categorical_crossentropy\", optimizer=optimizer, metrics=[\"accuracy\"])\n",
    "\n",
    "\n",
    "history = model.fit(X_train, y_train, epochs=10,\n",
    "                    validation_data=(X_valid, y_valid),batch_size=128,\n",
    "                    callbacks=[onecycle])"
   ]
  },
  {
   "cell_type": "markdown",
   "id": "d74c1eb4",
   "metadata": {},
   "source": [
    "If you want to update the learning rate at each iteration rather than at each epoch, you must write your own callback class. We can do that by writing our own callback class or we can use `keras.optimizers.schedules`. I prefer not to write my own callback here for scheduling the learning rate at each iteration, rather I will use `keras.optimizers.schedules` since it is an easier way of using scheduling at each iteration."
   ]
  },
  {
   "cell_type": "code",
   "execution_count": 21,
   "id": "e76b9c24",
   "metadata": {},
   "outputs": [
    {
     "name": "stdout",
     "output_type": "stream",
     "text": [
      "Epoch 1/10\n",
      "1719/1719 [==============================] - 11s 7ms/step - loss: 2.3027 - accuracy: 0.0989 - val_loss: 2.3027 - val_accuracy: 0.0914\n",
      "Epoch 2/10\n",
      "1719/1719 [==============================] - 11s 7ms/step - loss: 2.3027 - accuracy: 0.0965 - val_loss: 2.3028 - val_accuracy: 0.0914\n",
      "Epoch 3/10\n",
      "1719/1719 [==============================] - 11s 6ms/step - loss: 2.3026 - accuracy: 0.0999 - val_loss: 2.3028 - val_accuracy: 0.0914\n",
      "Epoch 4/10\n",
      "1719/1719 [==============================] - 10s 6ms/step - loss: 2.3026 - accuracy: 0.0983 - val_loss: 2.3028 - val_accuracy: 0.0914\n",
      "Epoch 5/10\n",
      "1719/1719 [==============================] - 13s 7ms/step - loss: 2.3026 - accuracy: 0.0994 - val_loss: 2.3028 - val_accuracy: 0.0914\n",
      "Epoch 6/10\n",
      "1719/1719 [==============================] - 13s 8ms/step - loss: 2.3026 - accuracy: 0.1007 - val_loss: 2.3028 - val_accuracy: 0.0914\n",
      "Epoch 7/10\n",
      "1719/1719 [==============================] - 11s 6ms/step - loss: 2.3026 - accuracy: 0.1008 - val_loss: 2.3028 - val_accuracy: 0.0914\n",
      "Epoch 8/10\n",
      "1719/1719 [==============================] - 10s 6ms/step - loss: 2.3026 - accuracy: 0.1007 - val_loss: 2.3028 - val_accuracy: 0.0914\n",
      "Epoch 9/10\n",
      "1719/1719 [==============================] - 11s 6ms/step - loss: 2.3026 - accuracy: 0.1008 - val_loss: 2.3028 - val_accuracy: 0.0914\n",
      "Epoch 10/10\n",
      "1719/1719 [==============================] - 11s 6ms/step - loss: 2.3026 - accuracy: 0.1008 - val_loss: 2.3028 - val_accuracy: 0.0914\n"
     ]
    }
   ],
   "source": [
    "s = 10 * len(X_train) // 32 # number of steps in 20 epochs (batch size = 32)\n",
    "learning_rate = keras.optimizers.schedules.ExponentialDecay(0.01, s, 0.1)\n",
    "\n",
    "model = keras.models.Sequential()\n",
    "model.add(keras.layers.Flatten(input_shape=[28, 28]))\n",
    "model.add(keras.layers.Dense(300, kernel_initializer='lecun_normal',activation='relu'))\n",
    "for layer in range(50):\n",
    "    model.add(keras.layers.Dense(100, kernel_initializer='lecun_normal',activation='relu')) # adding 50 hidden layers.\n",
    "model.add(keras.layers.Dense(10, activation=\"softmax\"))\n",
    "\n",
    "\n",
    "optimizer = keras.optimizers.SGD(learning_rate)\n",
    "model.compile(loss=\"sparse_categorical_crossentropy\", optimizer=optimizer, metrics=[\"accuracy\"])\n",
    "\n",
    "\n",
    "history = model.fit(X_train, y_train, epochs=10,\n",
    "                    validation_data=(X_valid, y_valid),batch_size=32)"
   ]
  },
  {
   "cell_type": "markdown",
   "id": "e8dc3cff",
   "metadata": {},
   "source": [
    "You can find more about schedules in this [documentation](https://www.tensorflow.org/api_docs/python/tf/keras/optimizers/schedules/ExponentialDecay) also check out this Medium article [Learning Rate Schedules and Adaptive Learning Rate Methods for Deep Learning](https://towardsdatascience.com/learning-rate-schedules-and-adaptive-learning-rate-methods-for-deep-learning-2c8f433990d1)"
   ]
  },
  {
   "cell_type": "markdown",
   "id": "b149fd7c",
   "metadata": {},
   "source": [
    "## Reusing Pretrained Layers"
   ]
  },
  {
   "cell_type": "markdown",
   "id": "bcd20b93",
   "metadata": {},
   "source": [
    "Instead of training a large DNN from scratch, we can find an existing neural network that does a similar job to the one we are trying to do and reuse the layers of this neural network. This technique is called transfer learning.\n",
    "\n",
    "* If the input pictures of your new task don’t have the same size as the ones used in the original task, you will usually have to add a preprocessing step to resize them to the size expected by the original model. More generally, transfer learning will work best when the inputs have similar low-level features. - [Géron, A. (2019)](https://www.oreilly.com/library/view/hands-on-machine-learning/9781492032632/).\n"
   ]
  },
  {
   "cell_type": "markdown",
   "id": "045f8a63",
   "metadata": {},
   "source": [
    "Let's split the fashion MNIST training set in two:\n",
    "* `X_train_A`: all images of all items except for sandals and shirts (classes 5 and 6).\n",
    "* `X_train_B`: a much smaller training set of just the first 200 images of sandals or shirts.\n",
    "\n",
    "The validation set and the test set are also split this way, but without restricting the number of images.\n",
    "\n",
    "We will train a model on set A (classification task with 8 classes), and try to reuse it to tackle set B (binary classification). We hope to transfer a little bit of knowledge from task A to task B since classes in set A (sneakers, ankle boots, coats, t-shirts, etc.) are somewhat similar to classes in set B (sandals and shirts). However, since we are using  `Dense` layers, only patterns that occur at the same location can be reused (in contrast, convolutional layers will transfer information much more efficiently, since learned patterns can be detected anywhere on the image, as we will see in the CNN chapter)."
   ]
  },
  {
   "cell_type": "code",
   "execution_count": 22,
   "id": "236915cb",
   "metadata": {},
   "outputs": [],
   "source": [
    "(X_train_full, y_train_full), (X_test, y_test) = keras.datasets.fashion_mnist.load_data()\n",
    "X_train_full = X_train_full / 255.0\n",
    "X_test = X_test / 255.0\n",
    "X_valid, X_train = X_train_full[:5000], X_train_full[5000:]\n",
    "y_valid, y_train = y_train_full[:5000], y_train_full[5000:]"
   ]
  },
  {
   "cell_type": "code",
   "execution_count": 23,
   "id": "65ad2b94",
   "metadata": {},
   "outputs": [],
   "source": [
    "def split_dataset(X, y):\n",
    "    y_5_or_6 = (y == 5) | (y == 6) # sandals or shirts\n",
    "    y_A = y[~y_5_or_6]\n",
    "    y_A[y_A > 6] -= 2 # class indices 7, 8, 9 should be moved to 5, 6, 7\n",
    "    y_B = (y[y_5_or_6] == 6).astype(np.float32) # binary classification task: is it a shirt (class 6)?\n",
    "    return ((X[~y_5_or_6], y_A),\n",
    "            (X[y_5_or_6], y_B))\n",
    "\n",
    "(X_train_A, y_train_A), (X_train_B, y_train_B) = split_dataset(X_train, y_train)\n",
    "(X_valid_A, y_valid_A), (X_valid_B, y_valid_B) = split_dataset(X_valid, y_valid)\n",
    "(X_test_A, y_test_A), (X_test_B, y_test_B) = split_dataset(X_test, y_test)\n",
    "X_train_B = X_train_B[:200]\n",
    "y_train_B = y_train_B[:200]"
   ]
  },
  {
   "cell_type": "code",
   "execution_count": 24,
   "id": "d3e4d2e5",
   "metadata": {},
   "outputs": [],
   "source": [
    "model_A = keras.models.Sequential()\n",
    "model_A.add(keras.layers.Flatten(input_shape=[28, 28]))\n",
    "for n_hidden in (300, 100, 50, 50, 50):\n",
    "    model_A.add(keras.layers.Dense(n_hidden, activation=\"selu\"))\n",
    "model_A.add(keras.layers.Dense(8, activation=\"softmax\"))"
   ]
  },
  {
   "cell_type": "code",
   "execution_count": 25,
   "id": "5df56a32",
   "metadata": {},
   "outputs": [],
   "source": [
    "model_A.compile(loss=\"sparse_categorical_crossentropy\",\n",
    "                optimizer=keras.optimizers.SGD(lr=1e-3),\n",
    "                metrics=[\"accuracy\"])"
   ]
  },
  {
   "cell_type": "code",
   "execution_count": null,
   "id": "6ee54989",
   "metadata": {},
   "outputs": [],
   "source": [
    "history = model_A.fit(X_train_A, y_train_A, epochs=20,\n",
    "                    validation_data=(X_valid_A, y_valid_A))"
   ]
  },
  {
   "cell_type": "code",
   "execution_count": 27,
   "id": "e2b0f157",
   "metadata": {},
   "outputs": [],
   "source": [
    "model_A.save(\"my_model_A.h5\")"
   ]
  },
  {
   "cell_type": "code",
   "execution_count": 28,
   "id": "eed48975",
   "metadata": {},
   "outputs": [],
   "source": [
    "model_B = keras.models.Sequential()\n",
    "model_B.add(keras.layers.Flatten(input_shape=[28, 28]))\n",
    "for n_hidden in (300, 100, 50, 50, 50):\n",
    "    model_B.add(keras.layers.Dense(n_hidden, activation=\"selu\"))\n",
    "model_B.add(keras.layers.Dense(1, activation=\"sigmoid\"))"
   ]
  },
  {
   "cell_type": "code",
   "execution_count": 29,
   "id": "e6988c5b",
   "metadata": {},
   "outputs": [],
   "source": [
    "model_B.compile(loss=\"binary_crossentropy\",\n",
    "                optimizer=keras.optimizers.SGD(lr=1e-3),\n",
    "                metrics=[\"accuracy\"])"
   ]
  },
  {
   "cell_type": "code",
   "execution_count": null,
   "id": "f9c28412",
   "metadata": {},
   "outputs": [],
   "source": [
    "history = model_B.fit(X_train_B, y_train_B, epochs=20,\n",
    "                      validation_data=(X_valid_B, y_valid_B))"
   ]
  },
  {
   "cell_type": "code",
   "execution_count": 31,
   "id": "e6638ccf",
   "metadata": {},
   "outputs": [],
   "source": [
    "model_A = keras.models.load_model(\"my_model_A.h5\")\n",
    "model_B_on_A = keras.models.Sequential(model_A.layers[:-1])\n",
    "model_B_on_A.add(keras.layers.Dense(1, activation=\"sigmoid\"))"
   ]
  },
  {
   "cell_type": "markdown",
   "id": "5937ea8f",
   "metadata": {},
   "source": [
    "Training model B on model A will also affect model A. To avoid this, we can clone model A before reusing its layers."
   ]
  },
  {
   "cell_type": "code",
   "execution_count": 32,
   "id": "0140322b",
   "metadata": {},
   "outputs": [],
   "source": [
    "model_A_clone = keras.models.clone_model(model_A)\n",
    "model_A_clone.set_weights(model_A.get_weights())"
   ]
  },
  {
   "cell_type": "markdown",
   "id": "8c33a46d",
   "metadata": {},
   "source": [
    "Now It's time to freeze all the reused layers (so that they will not be modified), then we will train our model and see how it will perform. Additionally, we will try unfreezing one or two of the top hidden layers to let backpropagation tune them to see if we can improve the performance even further. \n",
    "\n",
    "* The more training data you have, the more layers you can unfreeze. It is also useful to reduce the learning rate when you unfreeze reused layers: this will avoid wrecking their fine-tuned weights. - [Géron, A. (2019)](https://www.oreilly.com/library/view/hands-on-machine-learning/9781492032632/)"
   ]
  },
  {
   "cell_type": "code",
   "execution_count": 33,
   "id": "a2982bc5",
   "metadata": {},
   "outputs": [],
   "source": [
    "for layer in model_B_on_A.layers[:-1]:\n",
    "    layer.trainable = False\n",
    "\n",
    "model_B_on_A.compile(loss=\"binary_crossentropy\",\n",
    "                     optimizer=keras.optimizers.SGD(lr=1e-3),\n",
    "                     metrics=[\"accuracy\"])"
   ]
  },
  {
   "cell_type": "markdown",
   "id": "97689e46",
   "metadata": {},
   "source": [
    "* Now you could train model_B_on_A for task B, but since the new output layer was initialized randomly it will make large errors (at least during the first few epochs), so there will be large error gradients that may wreck the reused weights. To avoid this, one approach is to freeze the reused layers during the first few epochs, giving the new layer some time to learn reasonable weights. To do this, set every layer’s trainable attribute to False and compile the model: You must always compile your model after you freeze or unfreeze layers. - [Géron, A. (2019)](https://www.oreilly.com/library/view/hands-on-machine-learning/9781492032632/)"
   ]
  },
  {
   "cell_type": "code",
   "execution_count": null,
   "id": "3732eba7",
   "metadata": {},
   "outputs": [],
   "source": [
    "history = model_B_on_A.fit(X_train_B, y_train_B, epochs=4,\n",
    "                           validation_data=(X_valid_B, y_valid_B))\n",
    "\n",
    "for layer in model_B_on_A.layers[:-1]:\n",
    "    layer.trainable = True\n",
    "\n",
    "model_B_on_A.compile(loss=\"binary_crossentropy\",\n",
    "                     optimizer=keras.optimizers.SGD(lr=1e-3),\n",
    "                     metrics=[\"accuracy\"])\n",
    "history = model_B_on_A.fit(X_train_B, y_train_B, epochs=16,\n",
    "                           validation_data=(X_valid_B, y_valid_B))"
   ]
  },
  {
   "cell_type": "markdown",
   "id": "481f2eac",
   "metadata": {},
   "source": [
    "Let's see how the model performs."
   ]
  },
  {
   "cell_type": "code",
   "execution_count": 35,
   "id": "4d9c6d26",
   "metadata": {},
   "outputs": [
    {
     "name": "stdout",
     "output_type": "stream",
     "text": [
      "63/63 [==============================] - 0s 1ms/step - loss: 0.1106 - accuracy: 0.9760\n"
     ]
    },
    {
     "data": {
      "text/plain": [
       "[0.11059117317199707, 0.9760000109672546]"
      ]
     },
     "execution_count": 35,
     "metadata": {},
     "output_type": "execute_result"
    }
   ],
   "source": [
    "model_B.evaluate(X_test_B, y_test_B)"
   ]
  },
  {
   "cell_type": "code",
   "execution_count": 36,
   "id": "0cb35f15",
   "metadata": {},
   "outputs": [
    {
     "name": "stdout",
     "output_type": "stream",
     "text": [
      "63/63 [==============================] - 0s 1ms/step - loss: 0.0634 - accuracy: 0.9855\n"
     ]
    },
    {
     "data": {
      "text/plain": [
       "[0.0633784681558609, 0.9854999780654907]"
      ]
     },
     "execution_count": 36,
     "metadata": {},
     "output_type": "execute_result"
    }
   ],
   "source": [
    "model_B_on_A.evaluate(X_test_B, y_test_B)"
   ]
  },
  {
   "cell_type": "markdown",
   "id": "b4dabcd6",
   "metadata": {},
   "source": [
    "It looks like transfer learning didn't improve the model much. Well, this is because that transfer learning does not work very well with small dense networks since they learn just a few patterns. It is also the same for dense networks, they are unlikely to be useful in other tasks since they learn very specific patterns. However, we will see that transfer learning works very well with CNN.\n",
    "\n",
    "Lastly, while talking about transfer learning I think we should briefly talk about two different pretraining processes.\n",
    "1. **Unsupervised Pretraining:** In a situation in which you don't have much-labeled data and you cannot afford to label them, you can first use unsupervised learning(such as with an autoencoder or GAN), and then you can use lower layers of these unsupervised algorithms (lower layers of GAN's discriminator), add the output layer for your task on top, and then use supervised learning to fine-tune your model. Before the time that the vanishing gradient problem is solved, this technique was used widely with Boltzmann Machines but today it is generally used with GANs or autoencoders.\n",
    "\n",
    "* Note that in the early days of Deep Learning it was difficult to train deep models, so people would use a technique called greedy layer-wise pretraining. They would first train an unsupervised model with a single layer, typically an RBM, then they would freeze that layer and add another one on top of it, then train the model again (effectively just training the new layer), then freeze the new layer and add another layer on top of it, train the model again, and so on. Nowadays, things are much simpler: people generally train the full unsupervised model in one shot and use autoencoders or GANs rather than RBMs. - [Géron, A. (2019)](https://www.oreilly.com/library/view/hands-on-machine-learning/9781492032632/)\n",
    "\n",
    "2. **Pretraining on Auxilary Task:** Another option that we can use if we do not have enough labeled training data is pretraining on an auxiliary task. In this option, we first train our model on an auxiliary task (must be a task that we can easily obtain labeled data) and then we will reuse the lower layers of this neural network for the actual task. The reason we are only using the lower layers is that these layers learn feature detectors that we can also use for the second neural network, whereas the higher layers learn more specific things related to the first problem. \n",
    "\n",
    "Two good examples from [Géron, A. (2019)](https://www.oreilly.com/library/view/hands-on-machine-learning/9781492032632/):\n",
    "\n",
    "* For example, if you want to build a system to recognize faces, you may only have a few pictures of each individual—clearly not enough to train a good classifier. Gathering hundreds of pictures of each person would not be practical. You could, however, gather a lot of pictures of random people on the web and train a first neural network to detect whether or not two different pictures feature the same person. Such a network would learn good feature detectors for faces, so reusing its lower layer would allow you to train a good face classifier that uses little training data.\n",
    "\n",
    "\n",
    "* For natural language processing (NLP) applications, you can download a corpus of millions of text documents and automatically generate labeled data from it. For example, you could randomly mask out some words and train a model to predict what the missing words are (e.g., it should predict that the missing word in the sentence “What ___ you saying?” is probably “are” or “were”). If you can train a model to reach good performance on this task, then it will already know quite a lot about language, and you can certainly reuse it for your actual task and fine-tune it on your labeled data."
   ]
  }
 ],
 "metadata": {
  "kernelspec": {
   "display_name": "Python 3 (ipykernel)",
   "language": "python",
   "name": "python3"
  },
  "language_info": {
   "codemirror_mode": {
    "name": "ipython",
    "version": 3
   },
   "file_extension": ".py",
   "mimetype": "text/x-python",
   "name": "python",
   "nbconvert_exporter": "python",
   "pygments_lexer": "ipython3",
   "version": "3.8.8"
  }
 },
 "nbformat": 4,
 "nbformat_minor": 5
}
