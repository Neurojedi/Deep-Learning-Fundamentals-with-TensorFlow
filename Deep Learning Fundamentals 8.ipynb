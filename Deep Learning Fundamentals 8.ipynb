{
 "cells": [
  {
   "cell_type": "markdown",
   "id": "f0c07c54",
   "metadata": {},
   "source": [
    "# Deep Learning Fundamentals 8: Into the World of Tensorflow/Keras 2"
   ]
  },
  {
   "cell_type": "markdown",
   "id": "7a9387c6",
   "metadata": {},
   "source": [
    "In notebooks 4-6 we built the theoretical background for initialization, normalization, optimization, and regularization. Then in notebook 8, we briefly saw how to use these techniques with Tensorflow and Keras. Now in this notebook, we will have some simple exercises in which we use these techniques."
   ]
  },
  {
   "cell_type": "markdown",
   "id": "abae56e7",
   "metadata": {},
   "source": [
    "# Binary Classification with Australian Rain Dataset\n",
    "\n",
    "In the code below, I will use Binary Classification for Australian Rain Dataset. I will construct a model with classical dropout regularization and train it for 25 epochs."
   ]
  },
  {
   "cell_type": "code",
   "execution_count": 1,
   "id": "5b364ee8",
   "metadata": {},
   "outputs": [],
   "source": [
    "import sys\n",
    "import sklearn\n",
    "import tensorflow as tf\n",
    "from tensorflow import keras\n",
    "import numpy as np\n",
    "import pandas as pd\n",
    "import matplotlib as mpl\n",
    "import matplotlib.pyplot as plt"
   ]
  },
  {
   "cell_type": "code",
   "execution_count": 2,
   "id": "05374031",
   "metadata": {},
   "outputs": [
    {
     "data": {
      "text/html": [
       "<div>\n",
       "<style scoped>\n",
       "    .dataframe tbody tr th:only-of-type {\n",
       "        vertical-align: middle;\n",
       "    }\n",
       "\n",
       "    .dataframe tbody tr th {\n",
       "        vertical-align: top;\n",
       "    }\n",
       "\n",
       "    .dataframe thead th {\n",
       "        text-align: right;\n",
       "    }\n",
       "</style>\n",
       "<table border=\"1\" class=\"dataframe\">\n",
       "  <thead>\n",
       "    <tr style=\"text-align: right;\">\n",
       "      <th></th>\n",
       "      <th>Date</th>\n",
       "      <th>Location</th>\n",
       "      <th>MinTemp</th>\n",
       "      <th>MaxTemp</th>\n",
       "      <th>Rainfall</th>\n",
       "      <th>Evaporation</th>\n",
       "      <th>Sunshine</th>\n",
       "      <th>WindGustDir</th>\n",
       "      <th>WindGustSpeed</th>\n",
       "      <th>WindDir9am</th>\n",
       "      <th>...</th>\n",
       "      <th>Humidity9am</th>\n",
       "      <th>Humidity3pm</th>\n",
       "      <th>Pressure9am</th>\n",
       "      <th>Pressure3pm</th>\n",
       "      <th>Cloud9am</th>\n",
       "      <th>Cloud3pm</th>\n",
       "      <th>Temp9am</th>\n",
       "      <th>Temp3pm</th>\n",
       "      <th>RainToday</th>\n",
       "      <th>RainTomorrow</th>\n",
       "    </tr>\n",
       "  </thead>\n",
       "  <tbody>\n",
       "    <tr>\n",
       "      <th>0</th>\n",
       "      <td>2008-12-01</td>\n",
       "      <td>Albury</td>\n",
       "      <td>13.4</td>\n",
       "      <td>22.9</td>\n",
       "      <td>0.6</td>\n",
       "      <td>NaN</td>\n",
       "      <td>NaN</td>\n",
       "      <td>W</td>\n",
       "      <td>44.0</td>\n",
       "      <td>W</td>\n",
       "      <td>...</td>\n",
       "      <td>71.0</td>\n",
       "      <td>22.0</td>\n",
       "      <td>1007.7</td>\n",
       "      <td>1007.1</td>\n",
       "      <td>8.0</td>\n",
       "      <td>NaN</td>\n",
       "      <td>16.9</td>\n",
       "      <td>21.8</td>\n",
       "      <td>No</td>\n",
       "      <td>No</td>\n",
       "    </tr>\n",
       "    <tr>\n",
       "      <th>1</th>\n",
       "      <td>2008-12-02</td>\n",
       "      <td>Albury</td>\n",
       "      <td>7.4</td>\n",
       "      <td>25.1</td>\n",
       "      <td>0.0</td>\n",
       "      <td>NaN</td>\n",
       "      <td>NaN</td>\n",
       "      <td>WNW</td>\n",
       "      <td>44.0</td>\n",
       "      <td>NNW</td>\n",
       "      <td>...</td>\n",
       "      <td>44.0</td>\n",
       "      <td>25.0</td>\n",
       "      <td>1010.6</td>\n",
       "      <td>1007.8</td>\n",
       "      <td>NaN</td>\n",
       "      <td>NaN</td>\n",
       "      <td>17.2</td>\n",
       "      <td>24.3</td>\n",
       "      <td>No</td>\n",
       "      <td>No</td>\n",
       "    </tr>\n",
       "    <tr>\n",
       "      <th>2</th>\n",
       "      <td>2008-12-03</td>\n",
       "      <td>Albury</td>\n",
       "      <td>12.9</td>\n",
       "      <td>25.7</td>\n",
       "      <td>0.0</td>\n",
       "      <td>NaN</td>\n",
       "      <td>NaN</td>\n",
       "      <td>WSW</td>\n",
       "      <td>46.0</td>\n",
       "      <td>W</td>\n",
       "      <td>...</td>\n",
       "      <td>38.0</td>\n",
       "      <td>30.0</td>\n",
       "      <td>1007.6</td>\n",
       "      <td>1008.7</td>\n",
       "      <td>NaN</td>\n",
       "      <td>2.0</td>\n",
       "      <td>21.0</td>\n",
       "      <td>23.2</td>\n",
       "      <td>No</td>\n",
       "      <td>No</td>\n",
       "    </tr>\n",
       "    <tr>\n",
       "      <th>3</th>\n",
       "      <td>2008-12-04</td>\n",
       "      <td>Albury</td>\n",
       "      <td>9.2</td>\n",
       "      <td>28.0</td>\n",
       "      <td>0.0</td>\n",
       "      <td>NaN</td>\n",
       "      <td>NaN</td>\n",
       "      <td>NE</td>\n",
       "      <td>24.0</td>\n",
       "      <td>SE</td>\n",
       "      <td>...</td>\n",
       "      <td>45.0</td>\n",
       "      <td>16.0</td>\n",
       "      <td>1017.6</td>\n",
       "      <td>1012.8</td>\n",
       "      <td>NaN</td>\n",
       "      <td>NaN</td>\n",
       "      <td>18.1</td>\n",
       "      <td>26.5</td>\n",
       "      <td>No</td>\n",
       "      <td>No</td>\n",
       "    </tr>\n",
       "    <tr>\n",
       "      <th>4</th>\n",
       "      <td>2008-12-05</td>\n",
       "      <td>Albury</td>\n",
       "      <td>17.5</td>\n",
       "      <td>32.3</td>\n",
       "      <td>1.0</td>\n",
       "      <td>NaN</td>\n",
       "      <td>NaN</td>\n",
       "      <td>W</td>\n",
       "      <td>41.0</td>\n",
       "      <td>ENE</td>\n",
       "      <td>...</td>\n",
       "      <td>82.0</td>\n",
       "      <td>33.0</td>\n",
       "      <td>1010.8</td>\n",
       "      <td>1006.0</td>\n",
       "      <td>7.0</td>\n",
       "      <td>8.0</td>\n",
       "      <td>17.8</td>\n",
       "      <td>29.7</td>\n",
       "      <td>No</td>\n",
       "      <td>No</td>\n",
       "    </tr>\n",
       "    <tr>\n",
       "      <th>...</th>\n",
       "      <td>...</td>\n",
       "      <td>...</td>\n",
       "      <td>...</td>\n",
       "      <td>...</td>\n",
       "      <td>...</td>\n",
       "      <td>...</td>\n",
       "      <td>...</td>\n",
       "      <td>...</td>\n",
       "      <td>...</td>\n",
       "      <td>...</td>\n",
       "      <td>...</td>\n",
       "      <td>...</td>\n",
       "      <td>...</td>\n",
       "      <td>...</td>\n",
       "      <td>...</td>\n",
       "      <td>...</td>\n",
       "      <td>...</td>\n",
       "      <td>...</td>\n",
       "      <td>...</td>\n",
       "      <td>...</td>\n",
       "      <td>...</td>\n",
       "    </tr>\n",
       "    <tr>\n",
       "      <th>145455</th>\n",
       "      <td>2017-06-21</td>\n",
       "      <td>Uluru</td>\n",
       "      <td>2.8</td>\n",
       "      <td>23.4</td>\n",
       "      <td>0.0</td>\n",
       "      <td>NaN</td>\n",
       "      <td>NaN</td>\n",
       "      <td>E</td>\n",
       "      <td>31.0</td>\n",
       "      <td>SE</td>\n",
       "      <td>...</td>\n",
       "      <td>51.0</td>\n",
       "      <td>24.0</td>\n",
       "      <td>1024.6</td>\n",
       "      <td>1020.3</td>\n",
       "      <td>NaN</td>\n",
       "      <td>NaN</td>\n",
       "      <td>10.1</td>\n",
       "      <td>22.4</td>\n",
       "      <td>No</td>\n",
       "      <td>No</td>\n",
       "    </tr>\n",
       "    <tr>\n",
       "      <th>145456</th>\n",
       "      <td>2017-06-22</td>\n",
       "      <td>Uluru</td>\n",
       "      <td>3.6</td>\n",
       "      <td>25.3</td>\n",
       "      <td>0.0</td>\n",
       "      <td>NaN</td>\n",
       "      <td>NaN</td>\n",
       "      <td>NNW</td>\n",
       "      <td>22.0</td>\n",
       "      <td>SE</td>\n",
       "      <td>...</td>\n",
       "      <td>56.0</td>\n",
       "      <td>21.0</td>\n",
       "      <td>1023.5</td>\n",
       "      <td>1019.1</td>\n",
       "      <td>NaN</td>\n",
       "      <td>NaN</td>\n",
       "      <td>10.9</td>\n",
       "      <td>24.5</td>\n",
       "      <td>No</td>\n",
       "      <td>No</td>\n",
       "    </tr>\n",
       "    <tr>\n",
       "      <th>145457</th>\n",
       "      <td>2017-06-23</td>\n",
       "      <td>Uluru</td>\n",
       "      <td>5.4</td>\n",
       "      <td>26.9</td>\n",
       "      <td>0.0</td>\n",
       "      <td>NaN</td>\n",
       "      <td>NaN</td>\n",
       "      <td>N</td>\n",
       "      <td>37.0</td>\n",
       "      <td>SE</td>\n",
       "      <td>...</td>\n",
       "      <td>53.0</td>\n",
       "      <td>24.0</td>\n",
       "      <td>1021.0</td>\n",
       "      <td>1016.8</td>\n",
       "      <td>NaN</td>\n",
       "      <td>NaN</td>\n",
       "      <td>12.5</td>\n",
       "      <td>26.1</td>\n",
       "      <td>No</td>\n",
       "      <td>No</td>\n",
       "    </tr>\n",
       "    <tr>\n",
       "      <th>145458</th>\n",
       "      <td>2017-06-24</td>\n",
       "      <td>Uluru</td>\n",
       "      <td>7.8</td>\n",
       "      <td>27.0</td>\n",
       "      <td>0.0</td>\n",
       "      <td>NaN</td>\n",
       "      <td>NaN</td>\n",
       "      <td>SE</td>\n",
       "      <td>28.0</td>\n",
       "      <td>SSE</td>\n",
       "      <td>...</td>\n",
       "      <td>51.0</td>\n",
       "      <td>24.0</td>\n",
       "      <td>1019.4</td>\n",
       "      <td>1016.5</td>\n",
       "      <td>3.0</td>\n",
       "      <td>2.0</td>\n",
       "      <td>15.1</td>\n",
       "      <td>26.0</td>\n",
       "      <td>No</td>\n",
       "      <td>No</td>\n",
       "    </tr>\n",
       "    <tr>\n",
       "      <th>145459</th>\n",
       "      <td>2017-06-25</td>\n",
       "      <td>Uluru</td>\n",
       "      <td>14.9</td>\n",
       "      <td>NaN</td>\n",
       "      <td>0.0</td>\n",
       "      <td>NaN</td>\n",
       "      <td>NaN</td>\n",
       "      <td>NaN</td>\n",
       "      <td>NaN</td>\n",
       "      <td>ESE</td>\n",
       "      <td>...</td>\n",
       "      <td>62.0</td>\n",
       "      <td>36.0</td>\n",
       "      <td>1020.2</td>\n",
       "      <td>1017.9</td>\n",
       "      <td>8.0</td>\n",
       "      <td>8.0</td>\n",
       "      <td>15.0</td>\n",
       "      <td>20.9</td>\n",
       "      <td>No</td>\n",
       "      <td>NaN</td>\n",
       "    </tr>\n",
       "  </tbody>\n",
       "</table>\n",
       "<p>145460 rows × 23 columns</p>\n",
       "</div>"
      ],
      "text/plain": [
       "              Date Location  MinTemp  MaxTemp  Rainfall  Evaporation  \\\n",
       "0       2008-12-01   Albury     13.4     22.9       0.6          NaN   \n",
       "1       2008-12-02   Albury      7.4     25.1       0.0          NaN   \n",
       "2       2008-12-03   Albury     12.9     25.7       0.0          NaN   \n",
       "3       2008-12-04   Albury      9.2     28.0       0.0          NaN   \n",
       "4       2008-12-05   Albury     17.5     32.3       1.0          NaN   \n",
       "...            ...      ...      ...      ...       ...          ...   \n",
       "145455  2017-06-21    Uluru      2.8     23.4       0.0          NaN   \n",
       "145456  2017-06-22    Uluru      3.6     25.3       0.0          NaN   \n",
       "145457  2017-06-23    Uluru      5.4     26.9       0.0          NaN   \n",
       "145458  2017-06-24    Uluru      7.8     27.0       0.0          NaN   \n",
       "145459  2017-06-25    Uluru     14.9      NaN       0.0          NaN   \n",
       "\n",
       "        Sunshine WindGustDir  WindGustSpeed WindDir9am  ... Humidity9am  \\\n",
       "0            NaN           W           44.0          W  ...        71.0   \n",
       "1            NaN         WNW           44.0        NNW  ...        44.0   \n",
       "2            NaN         WSW           46.0          W  ...        38.0   \n",
       "3            NaN          NE           24.0         SE  ...        45.0   \n",
       "4            NaN           W           41.0        ENE  ...        82.0   \n",
       "...          ...         ...            ...        ...  ...         ...   \n",
       "145455       NaN           E           31.0         SE  ...        51.0   \n",
       "145456       NaN         NNW           22.0         SE  ...        56.0   \n",
       "145457       NaN           N           37.0         SE  ...        53.0   \n",
       "145458       NaN          SE           28.0        SSE  ...        51.0   \n",
       "145459       NaN         NaN            NaN        ESE  ...        62.0   \n",
       "\n",
       "        Humidity3pm  Pressure9am  Pressure3pm  Cloud9am  Cloud3pm  Temp9am  \\\n",
       "0              22.0       1007.7       1007.1       8.0       NaN     16.9   \n",
       "1              25.0       1010.6       1007.8       NaN       NaN     17.2   \n",
       "2              30.0       1007.6       1008.7       NaN       2.0     21.0   \n",
       "3              16.0       1017.6       1012.8       NaN       NaN     18.1   \n",
       "4              33.0       1010.8       1006.0       7.0       8.0     17.8   \n",
       "...             ...          ...          ...       ...       ...      ...   \n",
       "145455         24.0       1024.6       1020.3       NaN       NaN     10.1   \n",
       "145456         21.0       1023.5       1019.1       NaN       NaN     10.9   \n",
       "145457         24.0       1021.0       1016.8       NaN       NaN     12.5   \n",
       "145458         24.0       1019.4       1016.5       3.0       2.0     15.1   \n",
       "145459         36.0       1020.2       1017.9       8.0       8.0     15.0   \n",
       "\n",
       "        Temp3pm  RainToday  RainTomorrow  \n",
       "0          21.8         No            No  \n",
       "1          24.3         No            No  \n",
       "2          23.2         No            No  \n",
       "3          26.5         No            No  \n",
       "4          29.7         No            No  \n",
       "...         ...        ...           ...  \n",
       "145455     22.4         No            No  \n",
       "145456     24.5         No            No  \n",
       "145457     26.1         No            No  \n",
       "145458     26.0         No            No  \n",
       "145459     20.9         No           NaN  \n",
       "\n",
       "[145460 rows x 23 columns]"
      ]
     },
     "execution_count": 2,
     "metadata": {},
     "output_type": "execute_result"
    }
   ],
   "source": [
    "data=pd.read_csv(\"datasets/weatherAUS.csv\")\n",
    "data"
   ]
  },
  {
   "cell_type": "markdown",
   "id": "3ee02a2f",
   "metadata": {},
   "source": [
    "## Preprocessing"
   ]
  },
  {
   "cell_type": "code",
   "execution_count": 3,
   "id": "40b6fb7a",
   "metadata": {},
   "outputs": [],
   "source": [
    "from sklearn.model_selection import train_test_split\n",
    "from sklearn.preprocessing import LabelEncoder\n",
    "from sklearn.base import BaseEstimator, TransformerMixin\n",
    "from sklearn.impute import SimpleImputer\n",
    "from sklearn.preprocessing import MinMaxScaler"
   ]
  },
  {
   "cell_type": "code",
   "execution_count": 4,
   "id": "75b2280c",
   "metadata": {},
   "outputs": [],
   "source": [
    "categorical = [features for features in data.columns if data[features].dtype==object]\n",
    "numerical = [features for features in data.columns if data[features].dtype==float]"
   ]
  },
  {
   "cell_type": "code",
   "execution_count": 5,
   "id": "475ec5ab",
   "metadata": {},
   "outputs": [],
   "source": [
    "data.drop(['WindGustDir','WindDir9am','WindDir3pm'],axis=1,inplace=True)"
   ]
  },
  {
   "cell_type": "code",
   "execution_count": 6,
   "id": "ff37d077",
   "metadata": {},
   "outputs": [],
   "source": [
    "def splitdate(data_s):\n",
    "    data_s[\"Date\"] = pd.to_datetime(data_s[\"Date\"]) #convert it to date\n",
    "    data_s[\"Year\"]=data_s[\"Date\"].dt.year # Parsing year \n",
    "    data_s[\"Month\"]=data_s[\"Date\"].dt.month # Parsing month\n",
    "    data_s[\"Day\"]=data_s[\"Date\"].dt.day # Parsing day\n",
    "    data_s =  data_s.drop([\"Date\"], axis=1) # Dropping original Date row\n",
    "    return data_s;"
   ]
  },
  {
   "cell_type": "code",
   "execution_count": 7,
   "id": "d62b5383",
   "metadata": {},
   "outputs": [],
   "source": [
    "class Convert_Missing(BaseEstimator, TransformerMixin):\n",
    "    def __init__(self,data): # no *args or **kargs\n",
    "        print(\"Transforming in progress...\")\n",
    "        self.data=data;\n",
    "        self.splitted_data=splitdate(data);\n",
    "        self.categorical = [features for features in self.splitted_data.columns if self.splitted_data[features].dtype==object]\n",
    "        self.numerical = [features for features in self.splitted_data.columns if self.splitted_data[features].dtype==float]\n",
    "        self.numerical_int64 = [features for features in self.splitted_data.columns if self.splitted_data[features].dtype=='int64']\n",
    "    def transform(self):\n",
    "        imputer = SimpleImputer(strategy=\"most_frequent\")\n",
    "        features_categorical=imputer.fit_transform(self.splitted_data[self.categorical])\n",
    "        imputer = SimpleImputer(strategy=\"median\")\n",
    "        features_numeric=imputer.fit_transform(self.splitted_data[self.numerical])\n",
    "        concatenated_array=np.concatenate((features_categorical,features_numeric),axis=1)#concatane arrays obtained from imputer\n",
    "        dataframe=pd.DataFrame(concatenated_array, columns=self.categorical+self.numerical) # convert it to dataframe\n",
    "        frames = [dataframe, data[self.numerical_int64]] # combining the dataframe in the previous line and date dataframe \n",
    "        final_dataframe=pd.concat(frames,axis=1)  # concataneting the two dataframes in the previous line\n",
    "        final_dataframe=final_dataframe.loc[:,~final_dataframe.columns.duplicated()]\n",
    "        print(\"Transforming completed\")\n",
    "        return final_dataframe"
   ]
  },
  {
   "cell_type": "code",
   "execution_count": 8,
   "id": "67b49bd9",
   "metadata": {},
   "outputs": [],
   "source": [
    "le=LabelEncoder()\n",
    "def One_Hot_Encoder(data):\n",
    "    numerical = [features for features in data.columns if data[features].dtype==float]  # getting names of numerical columns\n",
    "    categorical = [features for features in data.columns if data[features].dtype==object] # getting names of categorical columns\n",
    "    numerical_int64 = [features for features in data.columns if data[features].dtype=='int64']\n",
    "    data=pd.concat([data[numerical],data[categorical],data[numerical_int64],pd.get_dummies(data.Location)],axis=1)\n",
    "    data[\"RainToday\"]=le.fit_transform(data[\"RainToday\"])\n",
    "    data.drop(['Location'],axis=1,inplace=True)\n",
    "    return data;"
   ]
  },
  {
   "cell_type": "code",
   "execution_count": 9,
   "id": "fcf5400a",
   "metadata": {},
   "outputs": [],
   "source": [
    "def scaleandmerge(data): \n",
    "    scaler = MinMaxScaler()\n",
    "    numerical_data = scaler.fit_transform(data[numerical])\n",
    "    numerical_data = pd.DataFrame(numerical_data)\n",
    "    data.drop(numerical,axis=1,inplace=True)\n",
    "    data_processed=pd.concat([numerical_data, data],axis=1) \n",
    "    return data_processed"
   ]
  },
  {
   "cell_type": "code",
   "execution_count": 10,
   "id": "e32160e7",
   "metadata": {},
   "outputs": [],
   "source": [
    "def combinedprocessing(data):\n",
    "    missing_transformer=Convert_Missing(data)\n",
    "    data1=missing_transformer.transform()\n",
    "    data2=One_Hot_Encoder(data1)\n",
    "    data3=scaleandmerge(data2)\n",
    "    return data3;"
   ]
  },
  {
   "cell_type": "code",
   "execution_count": 11,
   "id": "29ba449e",
   "metadata": {},
   "outputs": [],
   "source": [
    "def df_column_uniquify(df):\n",
    "    df_columns = df.columns\n",
    "    new_columns = []\n",
    "    for item in df_columns:\n",
    "        counter = 0\n",
    "        newitem = item\n",
    "        while newitem in new_columns:\n",
    "            counter += 1\n",
    "            newitem = \"{}_{}\".format(item, counter)\n",
    "        new_columns.append(newitem)\n",
    "    df.columns = new_columns\n",
    "    return df"
   ]
  },
  {
   "cell_type": "code",
   "execution_count": 12,
   "id": "780a82c3",
   "metadata": {},
   "outputs": [
    {
     "name": "stdout",
     "output_type": "stream",
     "text": [
      "Transforming in progress...\n",
      "Transforming completed\n"
     ]
    }
   ],
   "source": [
    "numerical = [features for features in data.columns if data[features].dtype==float]\n",
    "data_processed=combinedprocessing(data)\n",
    "data_processed=df_column_uniquify(data_processed)"
   ]
  },
  {
   "cell_type": "markdown",
   "id": "02187f3b",
   "metadata": {},
   "source": [
    "Now I will encode the target feature and use `train_test_split()`"
   ]
  },
  {
   "cell_type": "code",
   "execution_count": 13,
   "id": "8d790b5b",
   "metadata": {},
   "outputs": [],
   "source": [
    "le=LabelEncoder()\n",
    "target=le.fit_transform(data_processed[\"RainTomorrow\"])\n",
    "data_processed.drop([\"RainTomorrow\"],axis=1,inplace=True)\n",
    "\n",
    "X_train, X_valid, y_train, y_valid = train_test_split(data_processed, target, test_size = 0.2, random_state = 42)"
   ]
  },
  {
   "cell_type": "markdown",
   "id": "26da34bb",
   "metadata": {},
   "source": [
    "## Training the Model"
   ]
  },
  {
   "cell_type": "code",
   "execution_count": 14,
   "id": "58c72e2d",
   "metadata": {},
   "outputs": [],
   "source": [
    "y_train = np.asarray(y_train).astype(\"float64\")\n",
    "y_valid = np.asarray(y_valid).astype(\"float64\")\n",
    "X_train=np.asarray(X_train).astype(\"float64\")\n",
    "X_valid=np.asarray(X_valid).astype(\"float64\")"
   ]
  },
  {
   "cell_type": "code",
   "execution_count": null,
   "id": "7c3b5148",
   "metadata": {},
   "outputs": [],
   "source": [
    "model = keras.models.Sequential([\n",
    "    keras.layers.Dropout(rate=0.15),\n",
    "    keras.layers.BatchNormalization(),\n",
    "    keras.layers.Dense(300, activation=\"selu\", kernel_initializer=\"he_normal\"),\n",
    "    keras.layers.Dropout(rate=0.15),\n",
    "    keras.layers.BatchNormalization(),\n",
    "    keras.layers.Dense(100, activation=\"selu\", kernel_initializer=\"he_normal\"),\n",
    "    keras.layers.Dropout(rate=0.15),\n",
    "    keras.layers.BatchNormalization(),\n",
    "    keras.layers.Dense(1, activation=\"sigmoid\")\n",
    "])\n",
    "\n",
    "optimizer = keras.optimizers.Nadam(lr=0.001, beta_1=0.9, beta_2=0.999)\n",
    "\n",
    "model.compile(loss=\"binary_crossentropy\", optimizer=optimizer, metrics=[\"accuracy\"])\n",
    "history = model.fit(X_train, y_train, epochs=25,\n",
    "                    validation_data=(X_valid, y_valid))"
   ]
  },
  {
   "cell_type": "code",
   "execution_count": 16,
   "id": "7c4c1b2e",
   "metadata": {},
   "outputs": [],
   "source": [
    "import seaborn as sns\n",
    "sns.set_theme()"
   ]
  },
  {
   "cell_type": "code",
   "execution_count": 17,
   "id": "d03c3a90",
   "metadata": {},
   "outputs": [
    {
     "data": {
      "image/png": "[encoded data removed]",
      "text/plain": [
       "<Figure size 432x288 with 1 Axes>"
      ]
     },
     "metadata": {},
     "output_type": "display_data"
    }
   ],
   "source": [
    "history_dict = history.history\n",
    "loss_hist = history_dict[\"loss\"]\n",
    "vallloss_hist = history_dict[\"val_loss\"]\n",
    "epochs = range(1, len(loss_hist) + 1)\n",
    "plt.plot(epochs, loss_hist, label=\"Training loss\")\n",
    "plt.plot(epochs, vallloss_hist, label=\"Validation loss\")\n",
    "plt.title(\"Training and validation loss\")\n",
    "plt.xlabel(\"Epochs\")\n",
    "plt.ylabel(\"Loss\")\n",
    "plt.legend()\n",
    "plt.show()"
   ]
  },
  {
   "cell_type": "code",
   "execution_count": 18,
   "id": "1a2b498b",
   "metadata": {},
   "outputs": [
    {
     "data": {
      "image/png": "[encoded data removed]",
      "text/plain": [
       "<Figure size 432x288 with 1 Axes>"
      ]
     },
     "metadata": {},
     "output_type": "display_data"
    }
   ],
   "source": [
    "plt.clf()\n",
    "acc = history_dict[\"accuracy\"]\n",
    "val_acc = history_dict[\"val_accuracy\"]\n",
    "plt.plot(epochs, acc, label=\"Training acc\")\n",
    "plt.plot(epochs, val_acc, label=\"Validation acc\")\n",
    "plt.title(\"Training and validation accuracy\")\n",
    "plt.xlabel(\"Epochs\")\n",
    "plt.ylabel(\"Accuracy\")\n",
    "plt.legend()\n",
    "plt.show()"
   ]
  },
  {
   "cell_type": "markdown",
   "id": "18569169",
   "metadata": {},
   "source": [
    "# Movie Review Classification"
   ]
  },
  {
   "cell_type": "markdown",
   "id": "2c5e7cf7",
   "metadata": {},
   "source": [
    "Now I will go on with an example from [Chollet, F. (2021).](https://www.manning.com/books/deep-learning-with-python-second-edition).\n",
    "\n",
    "Firstly, I will load the dataset and I will use `vectorize_sequences()` for converting our predictors into a bag-of-words form. I was thinking of loading this data from a CSV file and using `CountVectorizer()` on the data for converting it to a-bag-of-words format. However, then I thought It would be better to do that in NLP notebooks. Moreover, in the example below only the most common 10000 words are used for classification."
   ]
  },
  {
   "cell_type": "code",
   "execution_count": 19,
   "id": "6f9450eb",
   "metadata": {},
   "outputs": [
    {
     "name": "stderr",
     "output_type": "stream",
     "text": [
      "<__array_function__ internals>:5: VisibleDeprecationWarning: Creating an ndarray from ragged nested sequences (which is a list-or-tuple of lists-or-tuples-or ndarrays with different lengths or shapes) is deprecated. If you meant to do this, you must specify 'dtype=object' when creating the ndarray.\n",
      "C:\\Users\\gorke\\anaconda3\\lib\\site-packages\\tensorflow\\python\\keras\\datasets\\imdb.py:159: VisibleDeprecationWarning: Creating an ndarray from ragged nested sequences (which is a list-or-tuple of lists-or-tuples-or ndarrays with different lengths or shapes) is deprecated. If you meant to do this, you must specify 'dtype=object' when creating the ndarray.\n",
      "  x_train, y_train = np.array(xs[:idx]), np.array(labels[:idx])\n",
      "C:\\Users\\gorke\\anaconda3\\lib\\site-packages\\tensorflow\\python\\keras\\datasets\\imdb.py:160: VisibleDeprecationWarning: Creating an ndarray from ragged nested sequences (which is a list-or-tuple of lists-or-tuples-or ndarrays with different lengths or shapes) is deprecated. If you meant to do this, you must specify 'dtype=object' when creating the ndarray.\n",
      "  x_test, y_test = np.array(xs[idx:]), np.array(labels[idx:])\n"
     ]
    }
   ],
   "source": [
    "from tensorflow.keras.datasets import imdb\n",
    "(train_data, train_labels), (test_data, test_labels) = imdb.load_data(\n",
    "num_words=10000)"
   ]
  },
  {
   "cell_type": "code",
   "execution_count": 20,
   "id": "977ab914",
   "metadata": {},
   "outputs": [],
   "source": [
    "import numpy as np\n",
    "def vectorize_sequences(sequences, dimension=10000):\n",
    "    results = np.zeros((len(sequences), dimension))\n",
    "    for i, sequence in enumerate(sequences):\n",
    "        for j in sequence:\n",
    "            results[i, j] = 1.\n",
    "    return results\n",
    "x_train = vectorize_sequences(train_data)\n",
    "x_test = vectorize_sequences(test_data)"
   ]
  },
  {
   "cell_type": "markdown",
   "id": "53e7439f",
   "metadata": {},
   "source": [
    "The `vectorize_sequences()` function will convert our data into a bag-of-words shape. In the bag-of-words approach, each word represents a particular word in our dictionary and the ordering of words doesn't matter. I will talk about bag-of-words more in my NLP notes. See the articles about bag-of-words if you'd like to learn more: [A Gentle Introduction to the Bag-of-Words Model](https://machinelearningmastery.com/gentle-introduction-bag-words-model/) and [Working With Text Data](https://scikit-learn.org/stable/tutorial/text_analytics/working_with_text_data.html)"
   ]
  },
  {
   "cell_type": "code",
   "execution_count": 21,
   "id": "6112f2af",
   "metadata": {},
   "outputs": [],
   "source": [
    "y_train = np.asarray(train_labels).astype(\"float32\")\n",
    "y_test = np.asarray(test_labels).astype(\"float32\")"
   ]
  },
  {
   "cell_type": "code",
   "execution_count": 22,
   "id": "813ed3b7",
   "metadata": {},
   "outputs": [
    {
     "data": {
      "text/plain": [
       "array([0., 1., 1., ..., 0., 0., 0.])"
      ]
     },
     "execution_count": 22,
     "metadata": {},
     "output_type": "execute_result"
    }
   ],
   "source": [
    "x_train[1]"
   ]
  },
  {
   "cell_type": "code",
   "execution_count": 23,
   "id": "13c7faa8",
   "metadata": {},
   "outputs": [],
   "source": [
    "from tensorflow import keras\n",
    "from tensorflow.keras import layers\n",
    "\n",
    "model = keras.Sequential([\n",
    "    layers.Dropout(rate=0.15),\n",
    "    layers.Dense(32, activation=\"selu\"),\n",
    "    layers.Dropout(rate=0.15),\n",
    "    layers.Dense(16, activation=\"selu\"),\n",
    "    layers.Dropout(rate=0.15),\n",
    "    layers.Dense(1, activation=\"sigmoid\")\n",
    "])"
   ]
  },
  {
   "cell_type": "code",
   "execution_count": 24,
   "id": "0e01e495",
   "metadata": {},
   "outputs": [],
   "source": [
    "model.compile(optimizer=\"rmsprop\", loss=\"binary_crossentropy\", metrics=[\"accuracy\"])"
   ]
  },
  {
   "cell_type": "markdown",
   "id": "b72a9b70",
   "metadata": {},
   "source": [
    "Instead of creating a validation set, I will directly use the test set for validation. This is because I don't think It is important to create a validation set for this simple example."
   ]
  },
  {
   "cell_type": "code",
   "execution_count": null,
   "id": "b21fe535",
   "metadata": {},
   "outputs": [],
   "source": [
    "history = model.fit(x_train, y_test, epochs=20, batch_size=256, validation_data=(x_test, y_test))"
   ]
  },
  {
   "cell_type": "code",
   "execution_count": 26,
   "id": "849ff7e7",
   "metadata": {},
   "outputs": [
    {
     "data": {
      "image/png": "[encoded data removed]",
      "text/plain": [
       "<Figure size 432x288 with 1 Axes>"
      ]
     },
     "metadata": {},
     "output_type": "display_data"
    }
   ],
   "source": [
    "history_dict = history.history\n",
    "loss_hist = history_dict[\"loss\"]\n",
    "vallloss_hist = history_dict[\"val_loss\"]\n",
    "epochs = range(1, len(loss_hist) + 1)\n",
    "plt.plot(epochs, loss_hist, label=\"Training loss\")\n",
    "plt.plot(epochs, vallloss_hist, label=\"Validation loss\")\n",
    "plt.title(\"Training and validation loss\")\n",
    "plt.xlabel(\"Epochs\")\n",
    "plt.ylabel(\"Loss\")\n",
    "plt.legend()\n",
    "plt.show()"
   ]
  },
  {
   "cell_type": "code",
   "execution_count": 27,
   "id": "a7c0492e",
   "metadata": {},
   "outputs": [
    {
     "data": {
      "image/png": "[encoded data removed]",
      "text/plain": [
       "<Figure size 432x288 with 1 Axes>"
      ]
     },
     "metadata": {},
     "output_type": "display_data"
    }
   ],
   "source": [
    "plt.clf()\n",
    "acc = history_dict[\"accuracy\"]\n",
    "val_acc = history_dict[\"val_accuracy\"]\n",
    "plt.plot(epochs, acc, label=\"Training acc\")\n",
    "plt.plot(epochs, val_acc, label=\"Validation acc\")\n",
    "plt.title(\"Training and validation accuracy\")\n",
    "plt.xlabel(\"Epochs\")\n",
    "plt.ylabel(\"Accuracy\")\n",
    "plt.legend()\n",
    "plt.show()"
   ]
  },
  {
   "cell_type": "markdown",
   "id": "8f999739",
   "metadata": {},
   "source": [
    "I slightly altered the neural net to see if perhaps I could improve the model a bit, however, it looks like It didn't work out. In this situation, It would be logical to train the model up to 4 epochs which gives the best result according to the two plots above. I will improve the results for this dataset later with different neural networks."
   ]
  },
  {
   "cell_type": "markdown",
   "id": "818831d6",
   "metadata": {},
   "source": [
    "## Multiclass Classification Reuters The Wire News\n",
    "\n",
    "This example is also taken from [Chollet, F. (2021).](https://www.manning.com/books/deep-learning-with-python-second-edition)."
   ]
  },
  {
   "cell_type": "code",
   "execution_count": 28,
   "id": "c6fcc7d3",
   "metadata": {},
   "outputs": [
    {
     "name": "stderr",
     "output_type": "stream",
     "text": [
      "C:\\Users\\gorke\\anaconda3\\lib\\site-packages\\tensorflow\\python\\keras\\datasets\\reuters.py:148: VisibleDeprecationWarning: Creating an ndarray from ragged nested sequences (which is a list-or-tuple of lists-or-tuples-or ndarrays with different lengths or shapes) is deprecated. If you meant to do this, you must specify 'dtype=object' when creating the ndarray.\n",
      "  x_train, y_train = np.array(xs[:idx]), np.array(labels[:idx])\n",
      "C:\\Users\\gorke\\anaconda3\\lib\\site-packages\\tensorflow\\python\\keras\\datasets\\reuters.py:149: VisibleDeprecationWarning: Creating an ndarray from ragged nested sequences (which is a list-or-tuple of lists-or-tuples-or ndarrays with different lengths or shapes) is deprecated. If you meant to do this, you must specify 'dtype=object' when creating the ndarray.\n",
      "  x_test, y_test = np.array(xs[idx:]), np.array(labels[idx:])\n"
     ]
    }
   ],
   "source": [
    "from tensorflow.keras.datasets import reuters\n",
    "(train_data, train_labels), (test_data, test_labels) = reuters.load_data(\n",
    "    num_words=10000)"
   ]
  },
  {
   "cell_type": "markdown",
   "id": "f78f9dff",
   "metadata": {},
   "source": [
    "Let's encode the predictors and labels."
   ]
  },
  {
   "cell_type": "code",
   "execution_count": 29,
   "id": "3eb959f5",
   "metadata": {},
   "outputs": [],
   "source": [
    "x_train = vectorize_sequences(train_data)\n",
    "x_test = vectorize_sequences(test_data)"
   ]
  },
  {
   "cell_type": "code",
   "execution_count": 30,
   "id": "7d33bde2",
   "metadata": {},
   "outputs": [],
   "source": [
    "def to_one_hot(labels, dimension=46): # for encoding labels\n",
    "    results = np.zeros((len(labels), dimension))\n",
    "    for i, label in enumerate(labels):\n",
    "        results[i, label] = 1.\n",
    "    return results\n",
    "y_train = to_one_hot(train_labels)\n",
    "y_test = to_one_hot(test_labels)"
   ]
  },
  {
   "cell_type": "code",
   "execution_count": 31,
   "id": "0dd5de9f",
   "metadata": {},
   "outputs": [],
   "source": [
    "model = keras.Sequential([\n",
    "    layers.Dropout(rate=0.4),\n",
    "    layers.Dense(128, activation=\"selu\",kernel_initializer=\"he_normal\"),\n",
    "    layers.Dropout(rate=0.4),\n",
    "    layers.Dense(64, activation=\"selu\",kernel_initializer=\"he_normal\"),\n",
    "    layers.Dropout(rate=0.4),\n",
    "    layers.Dense(46, activation=\"softmax\",kernel_initializer=\"he_normal\")\n",
    "])"
   ]
  },
  {
   "cell_type": "code",
   "execution_count": 32,
   "id": "23cad42c",
   "metadata": {},
   "outputs": [],
   "source": [
    "model.compile(optimizer=\"rmsprop\",\n",
    "              loss=\"categorical_crossentropy\",\n",
    "              metrics=[\"accuracy\"])"
   ]
  },
  {
   "cell_type": "markdown",
   "id": "4916b77c",
   "metadata": {},
   "source": [
    "This time I will use a validation set."
   ]
  },
  {
   "cell_type": "code",
   "execution_count": 33,
   "id": "efe8295d",
   "metadata": {},
   "outputs": [],
   "source": [
    "x_val = x_train[:1000]\n",
    "partial_x_train = x_train[1000:]\n",
    "y_val = y_train[:1000]\n",
    "partial_y_train = y_train[1000:]"
   ]
  },
  {
   "cell_type": "code",
   "execution_count": null,
   "id": "0662fb36",
   "metadata": {},
   "outputs": [],
   "source": [
    "history = model.fit(partial_x_train,\n",
    "                    partial_y_train,\n",
    "                    epochs=30,\n",
    "                    batch_size=512,\n",
    "                    validation_data=(x_val, y_val))"
   ]
  },
  {
   "cell_type": "code",
   "execution_count": 35,
   "id": "81e3dcf8",
   "metadata": {},
   "outputs": [
    {
     "data": {
      "image/png": "[encoded data removed]",
      "text/plain": [
       "<Figure size 432x288 with 1 Axes>"
      ]
     },
     "metadata": {},
     "output_type": "display_data"
    }
   ],
   "source": [
    "history_dict = history.history\n",
    "loss_hist = history_dict[\"loss\"]\n",
    "vallloss_hist = history_dict[\"val_loss\"]\n",
    "epochs = range(1, len(loss_hist) + 1)\n",
    "plt.plot(epochs, loss_hist, label=\"Training loss\")\n",
    "plt.plot(epochs, vallloss_hist, label=\"Validation loss\")\n",
    "plt.title(\"Training and validation loss\")\n",
    "plt.xlabel(\"Epochs\")\n",
    "plt.ylabel(\"Loss\")\n",
    "plt.legend()\n",
    "plt.show()"
   ]
  },
  {
   "cell_type": "code",
   "execution_count": 36,
   "id": "c34a95eb",
   "metadata": {},
   "outputs": [
    {
     "data": {
      "image/png": "[encoded data removed]",
      "text/plain": [
       "<Figure size 432x288 with 1 Axes>"
      ]
     },
     "metadata": {},
     "output_type": "display_data"
    }
   ],
   "source": [
    "plt.clf()\n",
    "acc = history_dict[\"accuracy\"]\n",
    "val_acc = history_dict[\"val_accuracy\"]\n",
    "plt.plot(epochs, acc, label=\"Training acc\")\n",
    "plt.plot(epochs, val_acc, label=\"Validation acc\")\n",
    "plt.title(\"Training and validation accuracy\")\n",
    "plt.xlabel(\"Epochs\")\n",
    "plt.ylabel(\"Accuracy\")\n",
    "plt.legend()\n",
    "plt.show()"
   ]
  },
  {
   "cell_type": "markdown",
   "id": "584efc90",
   "metadata": {},
   "source": [
    "It looks like we can train the model up to the 8-9th epoch and get the best result."
   ]
  },
  {
   "cell_type": "markdown",
   "id": "b2ad2050",
   "metadata": {},
   "source": [
    "I would like to also mention that we can alternatively encode the labels as integer tensors. "
   ]
  },
  {
   "cell_type": "code",
   "execution_count": 37,
   "id": "91dc7320",
   "metadata": {},
   "outputs": [],
   "source": [
    "y_train = np.array(train_labels)\n",
    "y_test = np.array(test_labels)"
   ]
  },
  {
   "cell_type": "markdown",
   "id": "48208ff6",
   "metadata": {},
   "source": [
    "Since the labels are not categorical anymore, we can use sparse_categorical_crossentropy. "
   ]
  },
  {
   "cell_type": "code",
   "execution_count": 38,
   "id": "4b21d245",
   "metadata": {},
   "outputs": [],
   "source": [
    "x_val = x_train[:1000]\n",
    "partial_x_train = x_train[1000:]\n",
    "y_val = y_train[:1000]\n",
    "partial_y_train = y_train[1000:]"
   ]
  },
  {
   "cell_type": "code",
   "execution_count": null,
   "id": "fcf36345",
   "metadata": {
    "scrolled": false
   },
   "outputs": [],
   "source": [
    "model.compile(optimizer=\"rmsprop\",\n",
    "              loss=\"sparse_categorical_crossentropy\",\n",
    "              metrics=[\"accuracy\"])\n",
    "\n",
    "history = model.fit(partial_x_train,\n",
    "                    partial_y_train,\n",
    "                    epochs=30,\n",
    "                    batch_size=512,\n",
    "                    validation_data=(x_val, y_val))\n"
   ]
  },
  {
   "cell_type": "markdown",
   "id": "c4de7697",
   "metadata": {},
   "source": [
    "# Boston Housing Regregression with Monte Carlo Dropout\n"
   ]
  },
  {
   "cell_type": "markdown",
   "id": "ab8d84b5",
   "metadata": {},
   "source": [
    "An interesting question that came to my mind after learning about Monter Carlo Dropout is whether we can use it for regression. I firstly thought we could not use it with regression but then I thought we could use it. I searched about it on Google and it turns out that we can use MC Dropout with regression tasks. Let's have a quick example."
   ]
  },
  {
   "cell_type": "code",
   "execution_count": 40,
   "id": "f870b3dc",
   "metadata": {},
   "outputs": [],
   "source": [
    "(X_train, y_train), (X_test, y_test)=tf.keras.datasets.boston_housing.load_data(\n",
    "      path=\"boston_housing.npz\")"
   ]
  },
  {
   "cell_type": "code",
   "execution_count": 41,
   "id": "9b57e05f",
   "metadata": {},
   "outputs": [],
   "source": [
    "model = keras.models.Sequential([\n",
    "    keras.layers.Dropout(0.1),\n",
    "    keras.layers.Dense(128, activation=\"relu\", input_shape=X_train.shape[1:]),\n",
    "    keras.layers.Dropout(0.1),\n",
    "    keras.layers.Dense(64, activation=\"relu\"),\n",
    "    keras.layers.Dropout(0.1),\n",
    "    keras.layers.Dense(1)\n",
    "])"
   ]
  },
  {
   "cell_type": "code",
   "execution_count": null,
   "id": "2f31e5fa",
   "metadata": {},
   "outputs": [],
   "source": [
    "model.compile(loss=\"mean_squared_error\", optimizer=keras.optimizers.Nadam(lr=0.001))\n",
    "history = model.fit(X_train, y_train, epochs=50 ,validation_split=0.1)"
   ]
  },
  {
   "cell_type": "code",
   "execution_count": 43,
   "id": "6ef6d284",
   "metadata": {},
   "outputs": [
    {
     "data": {
      "text/plain": [
       "77.49437249808527"
      ]
     },
     "execution_count": 43,
     "metadata": {},
     "output_type": "execute_result"
    }
   ],
   "source": [
    "from sklearn.metrics import mean_squared_error\n",
    "y_pred2=model.predict(X_test)\n",
    "mean_squared_error(y_pred2,y_test)"
   ]
  },
  {
   "cell_type": "markdown",
   "id": "c98356b7",
   "metadata": {},
   "source": [
    "Now It comes to the interesting part. As we did in the Monte Carlo Dropout example of the previous notebook, we will stack the predictions of different neural networks and get the mean of predictions. For implementing MC Dropout Regression, I will use the code taken from one of the articles that I shared previously [link](https://towardsdatascience.com/monte-carlo-dropout-7fd52f8b6571). "
   ]
  },
  {
   "cell_type": "code",
   "execution_count": 44,
   "id": "90c89f35",
   "metadata": {},
   "outputs": [],
   "source": [
    "def predict_dist(X, model, num_samples):\n",
    "    preds = [model(X, training=True) for _ in range(num_samples)]\n",
    "    return np.hstack(preds)\n",
    "\n",
    "def predict_point(X, model, num_samples):\n",
    "    pred_dist = predict_dist(X, model, num_samples)\n",
    "    return pred_dist.mean(axis=1)"
   ]
  },
  {
   "cell_type": "code",
   "execution_count": 45,
   "id": "cad67514",
   "metadata": {},
   "outputs": [
    {
     "data": {
      "image/png": "[encoded data removed]",
      "text/plain": [
       "<Figure size 432x288 with 1 Axes>"
      ]
     },
     "metadata": {},
     "output_type": "display_data"
    }
   ],
   "source": [
    "y_pred_dist = predict_dist(X_test, model, 250)\n",
    "y_pred = predict_point(X_test, model, 250)\n",
    "\n",
    "sns.kdeplot(y_pred_dist[0], shade=True)\n",
    "plt.axvline(y_pred[0], color='red')\n",
    "plt.show()"
   ]
  },
  {
   "cell_type": "code",
   "execution_count": 46,
   "id": "971b5ac1",
   "metadata": {},
   "outputs": [
    {
     "data": {
      "text/plain": [
       "58.00175107297188"
      ]
     },
     "execution_count": 46,
     "metadata": {},
     "output_type": "execute_result"
    }
   ],
   "source": [
    "from sklearn.metrics import mean_squared_error\n",
    "\n",
    "mean_squared_error(y_pred,y_test)"
   ]
  },
  {
   "cell_type": "markdown",
   "id": "7ef6db0a",
   "metadata": {},
   "source": [
    "Looks like Monte Carlo Dropout improved the result."
   ]
  },
  {
   "cell_type": "markdown",
   "id": "dc2cba47",
   "metadata": {},
   "source": [
    "Let's also add batch normalization. Notice that this time, we need to force training."
   ]
  },
  {
   "cell_type": "code",
   "execution_count": 47,
   "id": "b32cda46",
   "metadata": {},
   "outputs": [],
   "source": [
    "model = keras.models.Sequential([\n",
    "    keras.layers.BatchNormalization(input_shape=[13,]),\n",
    "    keras.layers.Dropout(0.1),\n",
    "    keras.layers.Dense(128, activation=\"relu\"),\n",
    "    keras.layers.BatchNormalization(),\n",
    "    keras.layers.Dropout(0.1),\n",
    "    keras.layers.Dense(64, activation=\"relu\"),\n",
    "    keras.layers.BatchNormalization(),\n",
    "    keras.layers.Dropout(0.1),\n",
    "    keras.layers.Dense(1)\n",
    "])"
   ]
  },
  {
   "cell_type": "code",
   "execution_count": null,
   "id": "bc5f3c2d",
   "metadata": {},
   "outputs": [],
   "source": [
    "model.compile(loss=\"mean_squared_error\", optimizer=keras.optimizers.Nadam(lr=0.001))\n",
    "history = model.fit(X_train, y_train, epochs=50 ,validation_split=0.1)"
   ]
  },
  {
   "cell_type": "code",
   "execution_count": 49,
   "id": "c298ca17",
   "metadata": {},
   "outputs": [
    {
     "data": {
      "text/plain": [
       "25.066602161169506"
      ]
     },
     "execution_count": 49,
     "metadata": {},
     "output_type": "execute_result"
    }
   ],
   "source": [
    "y_pred2=model.predict(X_test)\n",
    "mean_squared_error(y_pred2,y_test)"
   ]
  },
  {
   "cell_type": "code",
   "execution_count": 50,
   "id": "1fa85198",
   "metadata": {},
   "outputs": [],
   "source": [
    "class MCDropout(keras.layers.Dropout):\n",
    "    def call(self, inputs):\n",
    "        return super().call(inputs, training=True)\n"
   ]
  },
  {
   "cell_type": "code",
   "execution_count": 51,
   "id": "734b0876",
   "metadata": {},
   "outputs": [],
   "source": [
    "mc_model = keras.models.Sequential([\n",
    "    MCDropout(layer.rate) if isinstance(layer, keras.layers.Dropout) else layer\n",
    "    for layer in model.layers\n",
    "])"
   ]
  },
  {
   "cell_type": "code",
   "execution_count": 52,
   "id": "000cd4da",
   "metadata": {},
   "outputs": [
    {
     "name": "stdout",
     "output_type": "stream",
     "text": [
      "Model: \"sequential_5\"\n",
      "_________________________________________________________________\n",
      "Layer (type)                 Output Shape              Param #   \n",
      "=================================================================\n",
      "batch_normalization_3 (Batch (None, 13)                52        \n",
      "_________________________________________________________________\n",
      "mc_dropout (MCDropout)       (None, 13)                0         \n",
      "_________________________________________________________________\n",
      "dense_12 (Dense)             (None, 128)               1792      \n",
      "_________________________________________________________________\n",
      "batch_normalization_4 (Batch (None, 128)               512       \n",
      "_________________________________________________________________\n",
      "mc_dropout_1 (MCDropout)     (None, 128)               0         \n",
      "_________________________________________________________________\n",
      "dense_13 (Dense)             (None, 64)                8256      \n",
      "_________________________________________________________________\n",
      "batch_normalization_5 (Batch (None, 64)                256       \n",
      "_________________________________________________________________\n",
      "mc_dropout_2 (MCDropout)     (None, 64)                0         \n",
      "_________________________________________________________________\n",
      "dense_14 (Dense)             (None, 1)                 65        \n",
      "=================================================================\n",
      "Total params: 10,933\n",
      "Trainable params: 10,523\n",
      "Non-trainable params: 410\n",
      "_________________________________________________________________\n"
     ]
    }
   ],
   "source": [
    "mc_model.summary()"
   ]
  },
  {
   "cell_type": "code",
   "execution_count": null,
   "id": "caba29cb",
   "metadata": {},
   "outputs": [],
   "source": [
    "mc_model.compile(loss=\"mean_squared_error\", optimizer=keras.optimizers.Nadam(lr=0.001))\n",
    "history = mc_model.fit(X_train, y_train, epochs=50 ,validation_split=0.1)"
   ]
  },
  {
   "cell_type": "code",
   "execution_count": 54,
   "id": "607988d7",
   "metadata": {},
   "outputs": [],
   "source": [
    "y_pred = np.round(np.mean([mc_model.predict(X_test) for sample in range(250)], axis=0), 3)"
   ]
  },
  {
   "cell_type": "code",
   "execution_count": 55,
   "id": "40934338",
   "metadata": {},
   "outputs": [
    {
     "data": {
      "text/plain": [
       "16.912154834871632"
      ]
     },
     "execution_count": 55,
     "metadata": {},
     "output_type": "execute_result"
    }
   ],
   "source": [
    "mean_squared_error(y_pred,y_test)"
   ]
  },
  {
   "cell_type": "markdown",
   "id": "39eda3e2",
   "metadata": {},
   "source": [
    "# Some Interesting Cases of Deep Learning Model\n",
    "\n",
    "## 1. Spurious Correlations: \n",
    "Spurious Correlations are important factors that can affect training performance. One can generally come across spurious correlations in two cases.\n",
    "\n",
    "The first one is when we have an instance that appears very rare in our data. For instance, in a sentiment classification task, there is a word that only appears twice (it appears in two texts) and these texts are associated with negative sentiments. If the model is poorly regularized, it might put a very high weight on this word and classify new texts that contain the word as negative, whereas, the texts may be positive.\n",
    "\n",
    "Spurious correlation can be also caused by statistical fluke. For instance, let's say we have an instance that occurs 100 times in our training data and it is associated with a positive sentiment %60 times and with a negative sentiment %40 of the time. However, this occurrence may be completely caused by a statistical fluke, but the model is likely to learn to leverage that feature.\n",
    "\n",
    "Let's see an example of how spurious correlation can affect model performance. We will add some noise to MNIST data and see how it will affect the performance.\n",
    "\n",
    "Let's add the white noise or zero channels to MNIST"
   ]
  },
  {
   "cell_type": "code",
   "execution_count": 56,
   "id": "8e3e1e7c",
   "metadata": {},
   "outputs": [],
   "source": [
    "from tensorflow.keras.datasets import mnist\n",
    "import numpy as np\n",
    "\n",
    "(train_images, train_labels), _ = mnist.load_data()\n",
    "train_images = train_images.reshape((60000, 28 * 28))\n",
    "train_images = train_images.astype(\"float32\") / 255\n",
    "\n",
    "train_images_with_noise_channels = np.concatenate(\n",
    "    [train_images, np.random.random((len(train_images), 784))], axis=1)\n",
    "\n",
    "train_images_with_zeros_channels = np.concatenate(\n",
    "    [train_images, np.zeros((len(train_images), 784))], axis=1)"
   ]
  },
  {
   "cell_type": "markdown",
   "id": "ba107af7",
   "metadata": {},
   "source": [
    "Let's train the model now and see the difference."
   ]
  },
  {
   "cell_type": "code",
   "execution_count": 57,
   "id": "bc4e979b",
   "metadata": {},
   "outputs": [
    {
     "name": "stdout",
     "output_type": "stream",
     "text": [
      "Epoch 1/10\n",
      "375/375 [==============================] - 8s 20ms/step - loss: 0.6205 - accuracy: 0.8124 - val_loss: 0.3208 - val_accuracy: 0.9026\n",
      "Epoch 2/10\n",
      "375/375 [==============================] - 7s 18ms/step - loss: 0.2474 - accuracy: 0.9237 - val_loss: 0.2063 - val_accuracy: 0.9377\n",
      "Epoch 3/10\n",
      "375/375 [==============================] - 7s 18ms/step - loss: 0.1610 - accuracy: 0.9504 - val_loss: 0.1706 - val_accuracy: 0.9475\n",
      "Epoch 4/10\n",
      "375/375 [==============================] - 7s 20ms/step - loss: 0.1141 - accuracy: 0.9650 - val_loss: 0.1529 - val_accuracy: 0.9553\n",
      "Epoch 5/10\n",
      "375/375 [==============================] - 6s 17ms/step - loss: 0.0840 - accuracy: 0.9733 - val_loss: 0.1276 - val_accuracy: 0.9643\n",
      "Epoch 6/10\n",
      "375/375 [==============================] - 7s 18ms/step - loss: 0.0607 - accuracy: 0.9815 - val_loss: 0.1265 - val_accuracy: 0.9635\n",
      "Epoch 7/10\n",
      "375/375 [==============================] - 6s 17ms/step - loss: 0.0472 - accuracy: 0.9850 - val_loss: 0.2154 - val_accuracy: 0.9386\n",
      "Epoch 8/10\n",
      "375/375 [==============================] - 7s 18ms/step - loss: 0.0341 - accuracy: 0.9890 - val_loss: 0.1409 - val_accuracy: 0.9639\n",
      "Epoch 9/10\n",
      "375/375 [==============================] - 9s 23ms/step - loss: 0.0275 - accuracy: 0.9910 - val_loss: 0.2120 - val_accuracy: 0.9482\n",
      "Epoch 10/10\n",
      "375/375 [==============================] - 9s 23ms/step - loss: 0.0207 - accuracy: 0.9933 - val_loss: 0.1233 - val_accuracy: 0.9700\n",
      "Epoch 1/10\n",
      "375/375 [==============================] - 7s 19ms/step - loss: 0.2910 - accuracy: 0.9149 - val_loss: 0.1429 - val_accuracy: 0.9576\n",
      "Epoch 2/10\n",
      "375/375 [==============================] - 7s 20ms/step - loss: 0.1199 - accuracy: 0.9655 - val_loss: 0.1022 - val_accuracy: 0.9693\n",
      "Epoch 3/10\n",
      "375/375 [==============================] - 8s 20ms/step - loss: 0.0787 - accuracy: 0.9769 - val_loss: 0.0949 - val_accuracy: 0.9722\n",
      "Epoch 4/10\n",
      "375/375 [==============================] - 7s 19ms/step - loss: 0.0560 - accuracy: 0.9831 - val_loss: 0.0900 - val_accuracy: 0.9737\n",
      "Epoch 5/10\n",
      "375/375 [==============================] - 8s 20ms/step - loss: 0.0422 - accuracy: 0.9873 - val_loss: 0.0803 - val_accuracy: 0.9765\n",
      "Epoch 6/10\n",
      "375/375 [==============================] - 7s 18ms/step - loss: 0.0322 - accuracy: 0.9904 - val_loss: 0.0799 - val_accuracy: 0.9781\n",
      "Epoch 7/10\n",
      "375/375 [==============================] - 7s 19ms/step - loss: 0.0245 - accuracy: 0.9927 - val_loss: 0.0811 - val_accuracy: 0.9787\n",
      "Epoch 8/10\n",
      "375/375 [==============================] - 6s 17ms/step - loss: 0.0182 - accuracy: 0.9947 - val_loss: 0.0933 - val_accuracy: 0.9748\n",
      "Epoch 9/10\n",
      "375/375 [==============================] - 7s 18ms/step - loss: 0.0137 - accuracy: 0.9959 - val_loss: 0.0902 - val_accuracy: 0.9772\n",
      "Epoch 10/10\n",
      "375/375 [==============================] - 7s 18ms/step - loss: 0.0107 - accuracy: 0.9969 - val_loss: 0.0953 - val_accuracy: 0.9783\n"
     ]
    }
   ],
   "source": [
    "from tensorflow import keras\n",
    "from tensorflow.keras import layers\n",
    "\n",
    "def get_model():\n",
    "    model = keras.Sequential([\n",
    "        layers.Dense(512, activation=\"relu\"),\n",
    "        layers.Dense(10, activation=\"softmax\")\n",
    "    ])\n",
    "    model.compile(optimizer=\"rmsprop\",\n",
    "                  loss=\"sparse_categorical_crossentropy\",\n",
    "                  metrics=[\"accuracy\"])\n",
    "    return model\n",
    "\n",
    "model = get_model()\n",
    "history_noise = model.fit(\n",
    "    train_images_with_noise_channels, train_labels,\n",
    "    epochs=10,\n",
    "    batch_size=128,\n",
    "    validation_split=0.2)\n",
    "\n",
    "model = get_model()\n",
    "history_zeros = model.fit(\n",
    "    train_images_with_zeros_channels, train_labels,\n",
    "    epochs=10,\n",
    "    batch_size=128,\n",
    "    validation_split=0.2)"
   ]
  },
  {
   "cell_type": "code",
   "execution_count": 58,
   "id": "e8dbd98a",
   "metadata": {},
   "outputs": [
    {
     "data": {
      "text/plain": [
       "<matplotlib.legend.Legend at 0x1c065409cd0>"
      ]
     },
     "execution_count": 58,
     "metadata": {},
     "output_type": "execute_result"
    },
    {
     "data": {
      "image/png": "[encoded data removed]",
      "text/plain": [
       "<Figure size 432x288 with 1 Axes>"
      ]
     },
     "metadata": {},
     "output_type": "display_data"
    }
   ],
   "source": [
    "import matplotlib.pyplot as plt\n",
    "val_acc_noise = history_noise.history[\"accuracy\"]\n",
    "val_acc_zeros = history_zeros.history[\"accuracy\"]\n",
    "epochs = range(1, 11)\n",
    "plt.plot(epochs, val_acc_noise,\n",
    "         label=\"accuracy with noise channels\")\n",
    "plt.plot(epochs, val_acc_zeros,\n",
    "         label=\"accuracy with zeros channels\")\n",
    "plt.title(\"Effect of noise channels on validation accuracy\")\n",
    "plt.xlabel(\"Epochs\")\n",
    "plt.ylabel(\"Accuracy\")\n",
    "plt.legend()"
   ]
  },
  {
   "cell_type": "code",
   "execution_count": 59,
   "id": "633cb316",
   "metadata": {},
   "outputs": [
    {
     "data": {
      "text/plain": [
       "<matplotlib.legend.Legend at 0x1c065364a90>"
      ]
     },
     "execution_count": 59,
     "metadata": {},
     "output_type": "execute_result"
    },
    {
     "data": {
      "image/png": "[encoded data removed]",
      "text/plain": [
       "<Figure size 432x288 with 1 Axes>"
      ]
     },
     "metadata": {},
     "output_type": "display_data"
    }
   ],
   "source": [
    "import matplotlib.pyplot as plt\n",
    "val_acc_noise = history_noise.history[\"val_accuracy\"]\n",
    "val_acc_zeros = history_zeros.history[\"val_accuracy\"]\n",
    "epochs = range(1, 11)\n",
    "plt.plot(epochs, val_acc_noise,\n",
    "         label=\"Validation accuracy with noise channels\")\n",
    "plt.plot(epochs, val_acc_zeros,\n",
    "         label=\"Validation accuracy with zeros channels\")\n",
    "plt.title(\"Effect of noise channels on validation accuracy\")\n",
    "plt.xlabel(\"Epochs\")\n",
    "plt.ylabel(\"Accuracy\")\n",
    "plt.legend()"
   ]
  },
  {
   "cell_type": "markdown",
   "id": "50e4e3a1",
   "metadata": {},
   "source": [
    "Okay, now we need to take some notes here.\n",
    "\n",
    "We trained two models on two different MNIST data here. The first model was trained on the MNIST dataset that has noise and this noise caused spurious correlations which affected the validation accuracy. Even though the training accuracy scores are very close, the noise led to overfitting and reduced the performance of the model. For comparison, the second model was trained on the MNIST dataset with a zeros channel, this version of data didn't affect the model because we didn't change anything with the information content of the data. The takeaway note is that feature selection is important."
   ]
  },
  {
   "cell_type": "markdown",
   "id": "218cb7ee",
   "metadata": {},
   "source": [
    "## 2. The nature of generalization in deep learning\n",
    "\n",
    "I directly took the headline from the book [Chollet, F. (2021).](https://www.manning.com/books/deep-learning-with-python-second-edition) because this example was very striking to me. I didn't actually think that would work before and I was really surprised. In the book it is said that\n",
    "\n",
    "* A remarkable fact about deep learning models is that they can be trained to fit anything, as long as they have enough representational power. - [Chollet, F. (2021).](https://www.manning.com/books/deep-learning-with-python-second-edition)\n",
    "\n",
    "Well, let's shuffle the MNIST data and train a model on that shuffled version."
   ]
  },
  {
   "cell_type": "code",
   "execution_count": null,
   "id": "47433163",
   "metadata": {},
   "outputs": [],
   "source": [
    "(train_images, train_labels), _ = keras.datasets.mnist.load_data()\n",
    "train_images = train_images.reshape((60000, 28 * 28))\n",
    "train_images = train_images.astype(\"float32\") / 255\n",
    "\n",
    "random_train_labels = train_labels[:]\n",
    "np.random.shuffle(random_train_labels)\n",
    "\n",
    "model = keras.Sequential([\n",
    "    layers.Dense(512, activation=\"relu\"),\n",
    "    layers.Dense(10, activation=\"softmax\")\n",
    "])\n",
    "model.compile(optimizer=\"rmsprop\",\n",
    "              loss=\"sparse_categorical_crossentropy\",\n",
    "              metrics=[\"accuracy\"])\n",
    "model.fit(train_images, random_train_labels,\n",
    "          epochs=100,\n",
    "          batch_size=256,\n",
    "          validation_split=0.2)"
   ]
  },
  {
   "cell_type": "markdown",
   "id": "0d19ce78",
   "metadata": {},
   "source": [
    "Even though there is no correlation relationship between the inputs and the shuffled labels, the model performs pretty well. However, this is not the same for validation. The reason that validation doesn't improve is that since we shuffle the data there is no possibility of generalization. However, it somehow feels still strange to me the training accuracy increases that much."
   ]
  },
  {
   "cell_type": "markdown",
   "id": "0e462a5d",
   "metadata": {},
   "source": [
    "# Manifold Learning\n",
    "\n",
    "I would like to end this notebook with one of the topics in the books [Géron, A. (2019)](https://www.oreilly.com/library/view/hands-on-machine-learning/9781492032632/) and [Chollet, F. (2021).](https://www.manning.com/books/deep-learning-with-python-second-edition) that caught my attention a lot (In fact, manifold learning is also one of the areas that I work on, and whenever I read anything about it I get so interested).\n",
    "\n",
    "**Note:** I directly took the section below from the books mentioned above.\n",
    "\n",
    "* The manifold hypothesis posits that all natural data lies on a low-dimensional manifold within the high-dimensional space where it is encoded. That’s a pretty strong statement about the structure of information in the universe. As far as we know, it’s accurate, and it’s the reason why deep learning works. It’s true for MNIST digits, but also for human faces, tree morphology, the sounds of the human voice, and even natural language.\n",
    "\n",
    "\n",
    "The manifold hypothesis implies that\n",
    "* Machine learning models only have to fit relatively simple, low-dimensional,\n",
    "highly structured subspaces within their potential input space (latent manifolds).\n",
    "* Within one of these manifolds, it’s always possible to interpolate between two inputs, that is to say, morph one into another via a continuous path along which all points fall on the manifold.\n",
    "* Deep learning models implement a smooth, continuous mapping from their inputs to their outputs. It has to be smooth and continuous because it must be differentiable, by necessity (you couldn’t do gradient descent otherwise). This smoothness helps approximate latent manifolds, which follow the same properties.\n",
    "* Deep learning models tend to be structured in a way that mirrors the “shape” of the information in their training data (via architecture priors). More generally, deep neural networks structure their learned representations in a hierarchical and modular way, which echoes the way natural data is organized.\n",
    "\n",
    "\n",
    "The ability to interpolate between samples is the key to understanding generalization in deep learning.\n",
    "\n",
    "\n",
    "While deep learning is indeed well suited to manifold learning, the power to generalize is more a consequence of the natural structure of your data than a consequence of any property of your model. You’ll only be able to generalize if your data forms a manifold where points can be interpolated. The more informative and the less noisy your features are, the better you will be able to generalize, since your input space will be simpler and better structured. Data curation and feature engineering are essential to generalization.\n",
    "\n",
    "Fortunately, modern deep learning removes the need for most feature engineering, because neural networks are capable of automatically extracting useful features from raw data. Does this mean you don’t have to worry about feature engineering as long as you’re using deep neural networks? No, for two reasons:\n",
    "* Good features still allow you to solve problems more elegantly while using fewer resources. For instance, it would be ridiculous to solve the problem of reading a clock face using a convolutional neural network.\n",
    "* Good features let you solve a problem with far fewer data. The ability of deep learning models to learn features on their own relies on having lots of training data available; if you have only a few samples, the information value in their features becomes critical."
   ]
  }
 ],
 "metadata": {
  "kernelspec": {
   "display_name": "Python 3 (ipykernel)",
   "language": "python",
   "name": "python3"
  },
  "language_info": {
   "codemirror_mode": {
    "name": "ipython",
    "version": 3
   },
   "file_extension": ".py",
   "mimetype": "text/x-python",
   "name": "python",
   "nbconvert_exporter": "python",
   "pygments_lexer": "ipython3",
   "version": "3.8.8"
  }
 },
 "nbformat": 4,
 "nbformat_minor": 5
}
